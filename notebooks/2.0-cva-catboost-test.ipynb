{
 "cells": [
  {
   "cell_type": "markdown",
   "metadata": {},
   "source": [
    "## Read data"
   ]
  },
  {
   "cell_type": "code",
   "execution_count": 61,
   "metadata": {},
   "outputs": [],
   "source": [
    "import pandas as pd\n",
    "from sklearn.model_selection import train_test_split\n"
   ]
  },
  {
   "cell_type": "code",
   "execution_count": 62,
   "metadata": {},
   "outputs": [],
   "source": [
    "train_dataset = \"../data/train_preprocess.csv\"\n",
    "train_df = pd.read_csv(train_dataset)"
   ]
  },
  {
   "cell_type": "code",
   "execution_count": 63,
   "metadata": {},
   "outputs": [
    {
     "data": {
      "text/html": [
       "<div>\n",
       "<style scoped>\n",
       "    .dataframe tbody tr th:only-of-type {\n",
       "        vertical-align: middle;\n",
       "    }\n",
       "\n",
       "    .dataframe tbody tr th {\n",
       "        vertical-align: top;\n",
       "    }\n",
       "\n",
       "    .dataframe thead th {\n",
       "        text-align: right;\n",
       "    }\n",
       "</style>\n",
       "<table border=\"1\" class=\"dataframe\">\n",
       "  <thead>\n",
       "    <tr style=\"text-align: right;\">\n",
       "      <th></th>\n",
       "      <th>type</th>\n",
       "      <th>priority</th>\n",
       "      <th>class</th>\n",
       "      <th>is_return</th>\n",
       "      <th>weight</th>\n",
       "      <th>mailtype</th>\n",
       "      <th>mailctg</th>\n",
       "      <th>directctg</th>\n",
       "      <th>transport_pay</th>\n",
       "      <th>postmark</th>\n",
       "      <th>weight_mfi</th>\n",
       "      <th>price_mfi</th>\n",
       "      <th>total_qty_over_index</th>\n",
       "      <th>is_wrong_sndr_name</th>\n",
       "      <th>is_wrong_rcpn_name</th>\n",
       "      <th>is_wrong_phone_number</th>\n",
       "      <th>is_wrong_address</th>\n",
       "      <th>label</th>\n",
       "      <th>oper_type</th>\n",
       "      <th>oper_attr</th>\n",
       "    </tr>\n",
       "  </thead>\n",
       "  <tbody>\n",
       "    <tr>\n",
       "      <th>0</th>\n",
       "      <td>18</td>\n",
       "      <td>7503</td>\n",
       "      <td>0</td>\n",
       "      <td>1</td>\n",
       "      <td>0.000551</td>\n",
       "      <td>5</td>\n",
       "      <td>1</td>\n",
       "      <td>2</td>\n",
       "      <td>0.000000</td>\n",
       "      <td>0</td>\n",
       "      <td>0.002278</td>\n",
       "      <td>0.000939</td>\n",
       "      <td>0.016573</td>\n",
       "      <td>0</td>\n",
       "      <td>0</td>\n",
       "      <td>0</td>\n",
       "      <td>0</td>\n",
       "      <td>0</td>\n",
       "      <td>1043</td>\n",
       "      <td>-1</td>\n",
       "    </tr>\n",
       "    <tr>\n",
       "      <th>1</th>\n",
       "      <td>4</td>\n",
       "      <td>7503</td>\n",
       "      <td>0</td>\n",
       "      <td>1</td>\n",
       "      <td>0.000677</td>\n",
       "      <td>5</td>\n",
       "      <td>1</td>\n",
       "      <td>2</td>\n",
       "      <td>0.000000</td>\n",
       "      <td>0</td>\n",
       "      <td>0.003778</td>\n",
       "      <td>0.002505</td>\n",
       "      <td>0.273502</td>\n",
       "      <td>0</td>\n",
       "      <td>0</td>\n",
       "      <td>0</td>\n",
       "      <td>0</td>\n",
       "      <td>0</td>\n",
       "      <td>1023</td>\n",
       "      <td>-1</td>\n",
       "    </tr>\n",
       "    <tr>\n",
       "      <th>2</th>\n",
       "      <td>19</td>\n",
       "      <td>7503</td>\n",
       "      <td>0</td>\n",
       "      <td>1</td>\n",
       "      <td>0.000316</td>\n",
       "      <td>5</td>\n",
       "      <td>1</td>\n",
       "      <td>2</td>\n",
       "      <td>0.000000</td>\n",
       "      <td>0</td>\n",
       "      <td>0.003111</td>\n",
       "      <td>0.001365</td>\n",
       "      <td>0.105363</td>\n",
       "      <td>0</td>\n",
       "      <td>1</td>\n",
       "      <td>0</td>\n",
       "      <td>0</td>\n",
       "      <td>0</td>\n",
       "      <td>1018</td>\n",
       "      <td>-1</td>\n",
       "    </tr>\n",
       "    <tr>\n",
       "      <th>3</th>\n",
       "      <td>19</td>\n",
       "      <td>7503</td>\n",
       "      <td>0</td>\n",
       "      <td>1</td>\n",
       "      <td>0.002633</td>\n",
       "      <td>5</td>\n",
       "      <td>1</td>\n",
       "      <td>2</td>\n",
       "      <td>0.042553</td>\n",
       "      <td>0</td>\n",
       "      <td>0.001833</td>\n",
       "      <td>0.000626</td>\n",
       "      <td>0.039105</td>\n",
       "      <td>0</td>\n",
       "      <td>0</td>\n",
       "      <td>0</td>\n",
       "      <td>0</td>\n",
       "      <td>0</td>\n",
       "      <td>1019</td>\n",
       "      <td>-1</td>\n",
       "    </tr>\n",
       "    <tr>\n",
       "      <th>4</th>\n",
       "      <td>18</td>\n",
       "      <td>7503</td>\n",
       "      <td>0</td>\n",
       "      <td>1</td>\n",
       "      <td>0.005032</td>\n",
       "      <td>5</td>\n",
       "      <td>1</td>\n",
       "      <td>2</td>\n",
       "      <td>0.063239</td>\n",
       "      <td>0</td>\n",
       "      <td>0.039778</td>\n",
       "      <td>0.006262</td>\n",
       "      <td>0.009434</td>\n",
       "      <td>0</td>\n",
       "      <td>0</td>\n",
       "      <td>0</td>\n",
       "      <td>0</td>\n",
       "      <td>0</td>\n",
       "      <td>1020</td>\n",
       "      <td>-1</td>\n",
       "    </tr>\n",
       "  </tbody>\n",
       "</table>\n",
       "</div>"
      ],
      "text/plain": [
       "   type  priority  class  is_return    weight  mailtype  mailctg  directctg  \\\n",
       "0    18      7503      0          1  0.000551         5        1          2   \n",
       "1     4      7503      0          1  0.000677         5        1          2   \n",
       "2    19      7503      0          1  0.000316         5        1          2   \n",
       "3    19      7503      0          1  0.002633         5        1          2   \n",
       "4    18      7503      0          1  0.005032         5        1          2   \n",
       "\n",
       "   transport_pay  postmark  weight_mfi  price_mfi  total_qty_over_index  \\\n",
       "0       0.000000         0    0.002278   0.000939              0.016573   \n",
       "1       0.000000         0    0.003778   0.002505              0.273502   \n",
       "2       0.000000         0    0.003111   0.001365              0.105363   \n",
       "3       0.042553         0    0.001833   0.000626              0.039105   \n",
       "4       0.063239         0    0.039778   0.006262              0.009434   \n",
       "\n",
       "   is_wrong_sndr_name  is_wrong_rcpn_name  is_wrong_phone_number  \\\n",
       "0                   0                   0                      0   \n",
       "1                   0                   0                      0   \n",
       "2                   0                   1                      0   \n",
       "3                   0                   0                      0   \n",
       "4                   0                   0                      0   \n",
       "\n",
       "   is_wrong_address  label  oper_type  oper_attr  \n",
       "0                 0      0       1043         -1  \n",
       "1                 0      0       1023         -1  \n",
       "2                 0      0       1018         -1  \n",
       "3                 0      0       1019         -1  \n",
       "4                 0      0       1020         -1  "
      ]
     },
     "execution_count": 63,
     "metadata": {},
     "output_type": "execute_result"
    }
   ],
   "source": [
    "train_df.head()"
   ]
  },
  {
   "cell_type": "code",
   "execution_count": 64,
   "metadata": {},
   "outputs": [
    {
     "name": "stdout",
     "output_type": "stream",
     "text": [
      "<class 'pandas.core.frame.DataFrame'>\n",
      "RangeIndex: 5999846 entries, 0 to 5999845\n",
      "Data columns (total 20 columns):\n",
      " #   Column                 Dtype  \n",
      "---  ------                 -----  \n",
      " 0   type                   int64  \n",
      " 1   priority               int64  \n",
      " 2   class                  int64  \n",
      " 3   is_return              int64  \n",
      " 4   weight                 float64\n",
      " 5   mailtype               int64  \n",
      " 6   mailctg                int64  \n",
      " 7   directctg              int64  \n",
      " 8   transport_pay          float64\n",
      " 9   postmark               int64  \n",
      " 10  weight_mfi             float64\n",
      " 11  price_mfi              float64\n",
      " 12  total_qty_over_index   float64\n",
      " 13  is_wrong_sndr_name     int64  \n",
      " 14  is_wrong_rcpn_name     int64  \n",
      " 15  is_wrong_phone_number  int64  \n",
      " 16  is_wrong_address       int64  \n",
      " 17  label                  int64  \n",
      " 18  oper_type              int64  \n",
      " 19  oper_attr              int64  \n",
      "dtypes: float64(5), int64(15)\n",
      "memory usage: 915.5 MB\n"
     ]
    }
   ],
   "source": [
    "train_df.info()"
   ]
  },
  {
   "cell_type": "code",
   "execution_count": 65,
   "metadata": {},
   "outputs": [],
   "source": [
    "X = train_df.drop(\"label\", axis=1)\n",
    "y = train_df[\"label\"]"
   ]
  },
  {
   "cell_type": "code",
   "execution_count": 66,
   "metadata": {},
   "outputs": [],
   "source": [
    "X_train, X_val, y_train, y_val = train_test_split(X, y, test_size=0.2, random_state=0)"
   ]
  },
  {
   "cell_type": "markdown",
   "metadata": {},
   "source": [
    "## Train data"
   ]
  },
  {
   "cell_type": "code",
   "execution_count": 69,
   "metadata": {},
   "outputs": [],
   "source": [
    "import os\n",
    "import datetime\n",
    "from catboost import CatBoostClassifier"
   ]
  },
  {
   "cell_type": "code",
   "execution_count": 67,
   "metadata": {},
   "outputs": [
    {
     "data": {
      "text/plain": [
       "<catboost.core.CatBoostClassifier at 0x7ffaa91c6ca0>"
      ]
     },
     "execution_count": 67,
     "metadata": {},
     "output_type": "execute_result"
    }
   ],
   "source": [
    "cat_features = [\n",
    "    \"type\",\n",
    "    \"priority\",\n",
    "    \"class\",\n",
    "    \"is_return\",\n",
    "    \"mailtype\",\n",
    "    \"mailctg\",\n",
    "    \"directctg\",\n",
    "    \"postmark\",\n",
    "    \"is_wrong_sndr_name\",\n",
    "    \"is_wrong_rcpn_name\",\n",
    "    \"is_wrong_phone_number\",\n",
    "    \"is_wrong_address\",\n",
    "    \"oper_type\",\n",
    "    \"oper_attr\",\n",
    "]"
   ]
  },
  {
   "cell_type": "code",
   "execution_count": null,
   "metadata": {},
   "outputs": [],
   "source": [
    "ITERATIONS = 50\n",
    "RANDOM_SEED = 42\n",
    "LEARNING_RATE = 0.5\n",
    "\n",
    "TIMESTAMP = datetime.datetime.now().strftime(\"%m-%d-%Y-%H-%M-%S\")\n",
    "LOG_DIR = f'../log/catbost-{TIMESTAMP}'\n",
    "\n",
    "PLOT_FILE = f'{LOG_DIR}/plot'\n",
    "SNAPSHOT_FILE = f'{LOG_DIR}/snapshot'"
   ]
  },
  {
   "cell_type": "code",
   "execution_count": null,
   "metadata": {},
   "outputs": [],
   "source": [
    "if not os.path.exists(LOG_DIR):\n",
    "    os.makedirs(LOG_DIR)"
   ]
  },
  {
   "cell_type": "code",
   "execution_count": null,
   "metadata": {},
   "outputs": [],
   "source": [
    "clf = CatBoostClassifier(\n",
    "    iterations=ITERATIONS,\n",
    "    random_seed=RANDOM_SEED,\n",
    "    learning_rate=LEARNING_RATE,\n",
    "    snapshot_file=SNAPSHOT_FILE,\n",
    "    plot_file=PLOT_FILE,\n",
    "    custom_loss=['AUC', 'Recall', 'Precision', 'Accuracy']\n",
    ")\n",
    "\n",
    "clf.fit(\n",
    "    X_train, y_train,\n",
    "    cat_features=cat_features,\n",
    "    eval_set=(X_val, y_val),\n",
    "    verbose=False,\n",
    ")"
   ]
  },
  {
   "cell_type": "code",
   "execution_count": null,
   "metadata": {},
   "outputs": [],
   "source": [
    "best_score = clf.get_best_score()\n",
    "logs = clf.get_evals_result()"
   ]
  }
 ],
 "metadata": {
  "kernelspec": {
   "display_name": "Python 3.8.15 ('.venv': venv)",
   "language": "python",
   "name": "python3"
  },
  "language_info": {
   "codemirror_mode": {
    "name": "ipython",
    "version": 3
   },
   "file_extension": ".py",
   "mimetype": "text/x-python",
   "name": "python",
   "nbconvert_exporter": "python",
   "pygments_lexer": "ipython3",
   "version": "3.8.15"
  },
  "orig_nbformat": 4,
  "vscode": {
   "interpreter": {
    "hash": "4d3f8bf6576e745eb0c033ffd91fa4265441a999246318534b4b099572c039d5"
   }
  }
 },
 "nbformat": 4,
 "nbformat_minor": 2
}
