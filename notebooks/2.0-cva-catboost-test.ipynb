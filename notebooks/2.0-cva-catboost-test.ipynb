{
 "cells": [
  {
   "cell_type": "code",
   "execution_count": null,
   "metadata": {},
   "outputs": [],
   "source": [
    "import os\n",
    "import sys\n",
    "from dotenv import load_dotenv\n",
    "\n",
    "sys.path.append('../')\n",
    "load_dotenv(\"../.env\")"
   ]
  },
  {
   "cell_type": "code",
   "execution_count": null,
   "metadata": {},
   "outputs": [],
   "source": [
    "%cd .."
   ]
  },
  {
   "cell_type": "markdown",
   "metadata": {},
   "source": [
    "## Read data"
   ]
  },
  {
   "cell_type": "code",
   "execution_count": null,
   "metadata": {},
   "outputs": [],
   "source": [
    "import pandas as pd\n",
    "from sklearn.model_selection import train_test_split"
   ]
  },
  {
   "cell_type": "code",
   "execution_count": null,
   "metadata": {},
   "outputs": [],
   "source": [
    "train_dataset = \"data/train_preprocess.csv\"\n",
    "train_df = pd.read_csv(train_dataset)"
   ]
  },
  {
   "cell_type": "code",
   "execution_count": null,
   "metadata": {},
   "outputs": [],
   "source": [
    "train_df.head()"
   ]
  },
  {
   "cell_type": "code",
   "execution_count": null,
   "metadata": {},
   "outputs": [],
   "source": [
    "train_df.info()"
   ]
  },
  {
   "cell_type": "code",
   "execution_count": null,
   "metadata": {},
   "outputs": [],
   "source": [
    "X = train_df.drop(\"label\", axis=1)\n",
    "y = train_df[\"label\"]"
   ]
  },
  {
   "cell_type": "code",
   "execution_count": null,
   "metadata": {},
   "outputs": [],
   "source": [
    "X_train, X_val, y_train, y_val = train_test_split(X, y, test_size=0.2, random_state=0)"
   ]
  },
  {
   "cell_type": "markdown",
   "metadata": {},
   "source": [
    "## Train data"
   ]
  },
  {
   "cell_type": "code",
   "execution_count": null,
   "metadata": {},
   "outputs": [],
   "source": [
    "import os\n",
    "import json\n",
    "import mlflow\n",
    "import datetime\n",
    "from catboost import CatBoostClassifier"
   ]
  },
  {
   "cell_type": "code",
   "execution_count": null,
   "metadata": {},
   "outputs": [],
   "source": [
    "remote_server_uri = os.getenv(\"MLFLOW_TRACKING_URI\")\n",
    "mlflow.set_tracking_uri(remote_server_uri)\n",
    "mlflow.set_experiment(\"pochta-task\")"
   ]
  },
  {
   "cell_type": "code",
   "execution_count": null,
   "metadata": {},
   "outputs": [],
   "source": [
    "cat_features = [\n",
    "    \"type\",\n",
    "    \"priority\",\n",
    "    \"class\",\n",
    "    \"is_return\",\n",
    "    \"mailtype\",\n",
    "    \"mailctg\",\n",
    "    \"directctg\",\n",
    "    \"postmark\",\n",
    "    \"is_wrong_sndr_name\",\n",
    "    \"is_wrong_rcpn_name\",\n",
    "    \"is_wrong_phone_number\",\n",
    "    \"is_wrong_address\",\n",
    "    \"oper_type\",\n",
    "    \"oper_attr\",\n",
    "]"
   ]
  },
  {
   "cell_type": "code",
   "execution_count": null,
   "metadata": {},
   "outputs": [],
   "source": [
    "ITERATIONS = 20\n",
    "RANDOM_SEED = 42\n",
    "LEARNING_RATE = 0.5\n",
    "\n",
    "MODEL_NAME = 'catbost'\n",
    "TIMESTAMP = datetime.datetime.now().strftime(\"%m-%d-%Y-%H-%M-%S\")\n",
    "LOG_DIR = f'log/catbost-{TIMESTAMP}'\n",
    "\n",
    "PLOT_FILE = f'{LOG_DIR}/plot'\n",
    "SNAPSHOT_FILE = f'{LOG_DIR}/snapshot'\n",
    "MODELS_PATH = f'{LOG_DIR}/models'"
   ]
  },
  {
   "cell_type": "code",
   "execution_count": null,
   "metadata": {},
   "outputs": [],
   "source": [
    "if not os.path.exists(LOG_DIR):\n",
    "    os.makedirs(LOG_DIR)\n",
    "if not os.path.exists(MODELS_PATH):\n",
    "    os.makedirs(MODELS_PATH)"
   ]
  },
  {
   "cell_type": "code",
   "execution_count": null,
   "metadata": {},
   "outputs": [],
   "source": [
    "mlflow.start_run()\n",
    "mlflow.set_tag(\"mlflow.runName\", f\"{MODEL_NAME}-{TIMESTAMP}\")"
   ]
  },
  {
   "cell_type": "code",
   "execution_count": null,
   "metadata": {},
   "outputs": [],
   "source": [
    "params ={\n",
    "    \"iterations\": ITERATIONS,\n",
    "    \"batch_size\":RANDOM_SEED,\n",
    "    \"num_epochs\": LEARNING_RATE,\n",
    "    \"random_seed\": RANDOM_SEED,\n",
    "}\n",
    "mlflow.log_params(params)"
   ]
  },
  {
   "cell_type": "code",
   "execution_count": null,
   "metadata": {},
   "outputs": [],
   "source": [
    "clf = CatBoostClassifier(\n",
    "    iterations=ITERATIONS,\n",
    "    random_seed=RANDOM_SEED,\n",
    "    learning_rate=LEARNING_RATE,\n",
    "    snapshot_file=SNAPSHOT_FILE,\n",
    "    train_dir=LOG_DIR,\n",
    "    custom_loss=['AUC', 'Recall', 'Precision', 'Accuracy']\n",
    ")\n",
    "\n",
    "clf.fit(\n",
    "    X_train, y_train,\n",
    "    cat_features=cat_features,\n",
    "    eval_set=(X_val, y_val),\n",
    "    verbose=True,\n",
    ")"
   ]
  },
  {
   "cell_type": "code",
   "execution_count": null,
   "metadata": {},
   "outputs": [],
   "source": [
    "best_score = clf.get_best_score()\n",
    "logs = clf.get_evals_result()"
   ]
  },
  {
   "cell_type": "code",
   "execution_count": null,
   "metadata": {},
   "outputs": [],
   "source": [
    "with open(f'{LOG_DIR}/catboost_training.json') as f:\n",
    "    catboost_training = json.load(f)"
   ]
  },
  {
   "cell_type": "code",
   "execution_count": null,
   "metadata": {},
   "outputs": [],
   "source": [
    "test_metric = [metric[\"name\"] for metric in catboost_training[\"meta\"][\"test_metrics\"]]\n",
    "train_metric = [metric[\"name\"] for metric in catboost_training[\"meta\"][\"learn_metrics\"]]"
   ]
  },
  {
   "cell_type": "code",
   "execution_count": null,
   "metadata": {},
   "outputs": [],
   "source": [
    "for i, iteration in enumerate(catboost_training[\"iterations\"]):\n",
    "    log = dict()\n",
    "    log[\"Epoch\"] = i + 1\n",
    "    for name, value in zip(train_metric, iteration[\"learn\"]):\n",
    "        log[f\"Learn_{name}\"] = value\n",
    "    for name, value in zip(test_metric, iteration[\"test\"]):\n",
    "        log[f\"Test_{name}\"] = value\n",
    "    mlflow.log_metrics(log)\n",
    "\n",
    "mlflow.log_artifact(LOG_DIR)"
   ]
  },
  {
   "cell_type": "code",
   "execution_count": null,
   "metadata": {},
   "outputs": [],
   "source": [
    "mlflow.catboost.save_model(clf, MODELS_PATH)\n",
    "mlflow.catboost.log_model(clf, MODELS_PATH)"
   ]
  },
  {
   "cell_type": "code",
   "execution_count": null,
   "metadata": {},
   "outputs": [],
   "source": [
    "mlflow.end_run()"
   ]
  }
 ],
 "metadata": {
  "kernelspec": {
   "display_name": "Python 3.8.15 ('.venv': venv)",
   "language": "python",
   "name": "python3"
  },
  "language_info": {
   "codemirror_mode": {
    "name": "ipython",
    "version": 3
   },
   "file_extension": ".py",
   "mimetype": "text/x-python",
   "name": "python",
   "nbconvert_exporter": "python",
   "pygments_lexer": "ipython3",
   "version": "3.8.15"
  },
  "orig_nbformat": 4,
  "vscode": {
   "interpreter": {
    "hash": "4d3f8bf6576e745eb0c033ffd91fa4265441a999246318534b4b099572c039d5"
   }
  }
 },
 "nbformat": 4,
 "nbformat_minor": 2
}
