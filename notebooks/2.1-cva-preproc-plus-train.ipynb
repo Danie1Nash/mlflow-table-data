{
 "cells": [
  {
   "cell_type": "code",
   "execution_count": 1,
   "metadata": {},
   "outputs": [
    {
     "data": {
      "text/plain": [
       "True"
      ]
     },
     "execution_count": 1,
     "metadata": {},
     "output_type": "execute_result"
    }
   ],
   "source": [
    "import os\n",
    "import sys\n",
    "from dotenv import load_dotenv\n",
    "\n",
    "sys.path.append('../')\n",
    "load_dotenv(\"../.env\")"
   ]
  },
  {
   "cell_type": "code",
   "execution_count": 2,
   "metadata": {},
   "outputs": [
    {
     "name": "stdout",
     "output_type": "stream",
     "text": [
      "/home/cva/Desktop/ITMO/deep-learninging-practice/TableBC\n"
     ]
    }
   ],
   "source": [
    "%cd .."
   ]
  },
  {
   "cell_type": "markdown",
   "metadata": {},
   "source": [
    "## Preprocess data"
   ]
  },
  {
   "cell_type": "code",
   "execution_count": 3,
   "metadata": {},
   "outputs": [],
   "source": [
    "import pandas as pd\n",
    "import numpy as np\n",
    "from sklearn.preprocessing import LabelEncoder\n",
    "from sklearn.preprocessing import MinMaxScaler\n",
    "\n",
    "\n",
    "class DataPreproc:\n",
    "    def __init__(self):\n",
    "        self.drop_columns = [\n",
    "            \"is_in_yandex\",\n",
    "            \"dist_qty_oper_login_1\",\n",
    "            \"total_qty_oper_login_1\",\n",
    "            \"total_qty_oper_login_0\",\n",
    "            \"total_qty_over_index_and_type\",\n",
    "            \"is_privatecategory\",\n",
    "            \"index_oper\",\n",
    "            \"name_mfi\",\n",
    "            \"mailrank\",\n",
    "        ]\n",
    "        self.numeric_col = [\n",
    "            \"weight\",\n",
    "            \"transport_pay\",\n",
    "            \"weight_mfi\",\n",
    "            \"price_mfi\",\n",
    "            \"total_qty_over_index\",\n",
    "        ]\n",
    "        # Scalers init\n",
    "        self.scalers = dict()\n",
    "        for col in self.numeric_col:\n",
    "            self.scalers[col] = MinMaxScaler()\n",
    "\n",
    "        # Encoder init\n",
    "        self.encoder_type = LabelEncoder()\n",
    "\n",
    "    def preprocess(self, df, dtype=\"train\"):\n",
    "        if dtype == \"train\":\n",
    "            for col in self.numeric_col:\n",
    "                self.scalers[col].fit(np.array(df[col]).reshape(-1, 1))\n",
    "            self.encoder_type.fit(df[\"type\"])\n",
    "\n",
    "\n",
    "        df[\"oper_type\"] = df[\"oper_type + oper_attr\"].apply(lambda x: x.split(\"_\")[0])\n",
    "        df[\"oper_attr\"] = df[\"oper_type + oper_attr\"].apply(lambda x: x.split(\"_\")[1])\n",
    "        df[\"oper_type\"] = df[\"oper_type\"].astype(int)\n",
    "        df[\"oper_attr\"] = df[\"oper_attr\"].astype(int)\n",
    "        df.drop(\"oper_type + oper_attr\", axis=1, inplace=True)\n",
    "\n",
    "        \n",
    "        df[\"priority\"] = df[\"priority\"].astype(int)\n",
    "        df[\"is_privatecategory\"].replace({\"N\": 1, \"Y\": 2, \"0\": 0}, inplace=True)\n",
    "        df[\"class\"] = df[\"class\"].astype(int)\n",
    "        df[\"is_return\"].replace({\"N\": 1, \"Y\": 2}, inplace=True)\n",
    "        df[\"mailtype\"] = df[\"mailtype\"].astype(int)\n",
    "        df[\"mailctg\"] = df[\"mailctg\"].astype(int)\n",
    "        df[\"directctg\"] = df[\"directctg\"].astype(int)\n",
    "        df[\"postmark\"] = df[\"postmark\"].astype(int)\n",
    "        df[\"total_qty_over_index\"] = df[\"total_qty_over_index\"].astype(\"int\")\n",
    "        df.drop(self.drop_columns, axis=1, inplace=True)\n",
    "        \n",
    "        for col in self.numeric_col:\n",
    "            df[col] = self.scalers[col].transform(np.array(df[col]).reshape(-1, 1))\n",
    "        df[\"type\"] = self.encoder_type.transform(df[\"type\"])\n",
    "        \n",
    "        return df\n"
   ]
  },
  {
   "cell_type": "markdown",
   "metadata": {},
   "source": [
    "## Read data"
   ]
  },
  {
   "cell_type": "code",
   "execution_count": 4,
   "metadata": {},
   "outputs": [],
   "source": [
    "import pandas as pd\n",
    "from sklearn.model_selection import train_test_split"
   ]
  },
  {
   "cell_type": "code",
   "execution_count": 5,
   "metadata": {},
   "outputs": [
    {
     "name": "stderr",
     "output_type": "stream",
     "text": [
      "/tmp/ipykernel_5925/737877973.py:4: DtypeWarning: Columns (2) have mixed types. Specify dtype option on import or set low_memory=False.\n",
      "  train_df = pd.read_csv(train_dataset_path)\n"
     ]
    }
   ],
   "source": [
    "train_dataset_path = \"data/train_dataset_train.csv\"\n",
    "\n",
    "preproc = DataPreproc()\n",
    "train_df = pd.read_csv(train_dataset_path)"
   ]
  },
  {
   "cell_type": "code",
   "execution_count": 35,
   "metadata": {},
   "outputs": [
    {
     "name": "stdout",
     "output_type": "stream",
     "text": [
      "<class 'pandas.core.frame.DataFrame'>\n",
      "RangeIndex: 6000000 entries, 0 to 5999999\n",
      "Data columns (total 21 columns):\n",
      " #   Column                 Dtype  \n",
      "---  ------                 -----  \n",
      " 0   id                     int64  \n",
      " 1   type                   int64  \n",
      " 2   priority               int64  \n",
      " 3   class                  int64  \n",
      " 4   is_return              int64  \n",
      " 5   weight                 float64\n",
      " 6   mailtype               int64  \n",
      " 7   mailctg                int64  \n",
      " 8   directctg              int64  \n",
      " 9   transport_pay          float64\n",
      " 10  postmark               int64  \n",
      " 11  weight_mfi             float64\n",
      " 12  price_mfi              float64\n",
      " 13  total_qty_over_index   float64\n",
      " 14  is_wrong_sndr_name     int64  \n",
      " 15  is_wrong_rcpn_name     int64  \n",
      " 16  is_wrong_phone_number  int64  \n",
      " 17  is_wrong_address       int64  \n",
      " 18  label                  int64  \n",
      " 19  oper_type              int64  \n",
      " 20  oper_attr              int64  \n",
      "dtypes: float64(5), int64(16)\n",
      "memory usage: 961.3 MB\n"
     ]
    }
   ],
   "source": [
    "train_df.info()"
   ]
  },
  {
   "cell_type": "code",
   "execution_count": 6,
   "metadata": {},
   "outputs": [
    {
     "data": {
      "text/html": [
       "<div>\n",
       "<style scoped>\n",
       "    .dataframe tbody tr th:only-of-type {\n",
       "        vertical-align: middle;\n",
       "    }\n",
       "\n",
       "    .dataframe tbody tr th {\n",
       "        vertical-align: top;\n",
       "    }\n",
       "\n",
       "    .dataframe thead th {\n",
       "        text-align: right;\n",
       "    }\n",
       "</style>\n",
       "<table border=\"1\" class=\"dataframe\">\n",
       "  <thead>\n",
       "    <tr style=\"text-align: right;\">\n",
       "      <th></th>\n",
       "      <th>id</th>\n",
       "      <th>oper_type + oper_attr</th>\n",
       "      <th>index_oper</th>\n",
       "      <th>type</th>\n",
       "      <th>priority</th>\n",
       "      <th>is_privatecategory</th>\n",
       "      <th>class</th>\n",
       "      <th>is_in_yandex</th>\n",
       "      <th>is_return</th>\n",
       "      <th>weight</th>\n",
       "      <th>...</th>\n",
       "      <th>dist_qty_oper_login_1</th>\n",
       "      <th>total_qty_oper_login_1</th>\n",
       "      <th>total_qty_oper_login_0</th>\n",
       "      <th>total_qty_over_index_and_type</th>\n",
       "      <th>total_qty_over_index</th>\n",
       "      <th>is_wrong_sndr_name</th>\n",
       "      <th>is_wrong_rcpn_name</th>\n",
       "      <th>is_wrong_phone_number</th>\n",
       "      <th>is_wrong_address</th>\n",
       "      <th>label</th>\n",
       "    </tr>\n",
       "  </thead>\n",
       "  <tbody>\n",
       "    <tr>\n",
       "      <th>0</th>\n",
       "      <td>6818780</td>\n",
       "      <td>1043_-1</td>\n",
       "      <td>628629.0</td>\n",
       "      <td>Участок</td>\n",
       "      <td>7503.0</td>\n",
       "      <td>N</td>\n",
       "      <td>0.0</td>\n",
       "      <td>Y</td>\n",
       "      <td>N</td>\n",
       "      <td>87.0</td>\n",
       "      <td>...</td>\n",
       "      <td>42.0</td>\n",
       "      <td>720176.0</td>\n",
       "      <td>58950.0</td>\n",
       "      <td>779126.0</td>\n",
       "      <td>8290896.0</td>\n",
       "      <td>0</td>\n",
       "      <td>0</td>\n",
       "      <td>0</td>\n",
       "      <td>0</td>\n",
       "      <td>0</td>\n",
       "    </tr>\n",
       "    <tr>\n",
       "      <th>1</th>\n",
       "      <td>9907176</td>\n",
       "      <td>1023_-1</td>\n",
       "      <td>102976.0</td>\n",
       "      <td>ММПО</td>\n",
       "      <td>7503.0</td>\n",
       "      <td>N</td>\n",
       "      <td>0.0</td>\n",
       "      <td>N</td>\n",
       "      <td>N</td>\n",
       "      <td>107.0</td>\n",
       "      <td>...</td>\n",
       "      <td>914.0</td>\n",
       "      <td>48856658.0</td>\n",
       "      <td>83318932.0</td>\n",
       "      <td>132175590.0</td>\n",
       "      <td>136819803.0</td>\n",
       "      <td>0</td>\n",
       "      <td>0</td>\n",
       "      <td>0</td>\n",
       "      <td>0</td>\n",
       "      <td>0</td>\n",
       "    </tr>\n",
       "    <tr>\n",
       "      <th>2</th>\n",
       "      <td>3304275</td>\n",
       "      <td>1018_-1</td>\n",
       "      <td>620962.0</td>\n",
       "      <td>Цех</td>\n",
       "      <td>7503.0</td>\n",
       "      <td>N</td>\n",
       "      <td>0.0</td>\n",
       "      <td>Y</td>\n",
       "      <td>N</td>\n",
       "      <td>50.0</td>\n",
       "      <td>...</td>\n",
       "      <td>62.0</td>\n",
       "      <td>3246292.0</td>\n",
       "      <td>3233068.0</td>\n",
       "      <td>6479360.0</td>\n",
       "      <td>52708071.0</td>\n",
       "      <td>0</td>\n",
       "      <td>1</td>\n",
       "      <td>0</td>\n",
       "      <td>0</td>\n",
       "      <td>0</td>\n",
       "    </tr>\n",
       "    <tr>\n",
       "      <th>3</th>\n",
       "      <td>9020937</td>\n",
       "      <td>1019_-1</td>\n",
       "      <td>344964.0</td>\n",
       "      <td>Цех</td>\n",
       "      <td>7503.0</td>\n",
       "      <td>N</td>\n",
       "      <td>0.0</td>\n",
       "      <td>Y</td>\n",
       "      <td>N</td>\n",
       "      <td>416.0</td>\n",
       "      <td>...</td>\n",
       "      <td>55.0</td>\n",
       "      <td>2060928.0</td>\n",
       "      <td>653280.0</td>\n",
       "      <td>2714208.0</td>\n",
       "      <td>19562334.0</td>\n",
       "      <td>0</td>\n",
       "      <td>0</td>\n",
       "      <td>0</td>\n",
       "      <td>0</td>\n",
       "      <td>0</td>\n",
       "    </tr>\n",
       "    <tr>\n",
       "      <th>4</th>\n",
       "      <td>3082311</td>\n",
       "      <td>1020_-1</td>\n",
       "      <td>629819.0</td>\n",
       "      <td>Участок</td>\n",
       "      <td>7503.0</td>\n",
       "      <td>N</td>\n",
       "      <td>0.0</td>\n",
       "      <td>Y</td>\n",
       "      <td>N</td>\n",
       "      <td>795.0</td>\n",
       "      <td>...</td>\n",
       "      <td>16.0</td>\n",
       "      <td>316919.0</td>\n",
       "      <td>27911.0</td>\n",
       "      <td>344830.0</td>\n",
       "      <td>4719186.0</td>\n",
       "      <td>0</td>\n",
       "      <td>0</td>\n",
       "      <td>0</td>\n",
       "      <td>0</td>\n",
       "      <td>0</td>\n",
       "    </tr>\n",
       "  </tbody>\n",
       "</table>\n",
       "<p>5 rows × 29 columns</p>\n",
       "</div>"
      ],
      "text/plain": [
       "        id oper_type + oper_attr index_oper     type  priority  \\\n",
       "0  6818780               1043_-1   628629.0  Участок    7503.0   \n",
       "1  9907176               1023_-1   102976.0     ММПО    7503.0   \n",
       "2  3304275               1018_-1   620962.0      Цех    7503.0   \n",
       "3  9020937               1019_-1   344964.0      Цех    7503.0   \n",
       "4  3082311               1020_-1   629819.0  Участок    7503.0   \n",
       "\n",
       "  is_privatecategory  class is_in_yandex is_return  weight  ...  \\\n",
       "0                  N    0.0            Y         N    87.0  ...   \n",
       "1                  N    0.0            N         N   107.0  ...   \n",
       "2                  N    0.0            Y         N    50.0  ...   \n",
       "3                  N    0.0            Y         N   416.0  ...   \n",
       "4                  N    0.0            Y         N   795.0  ...   \n",
       "\n",
       "   dist_qty_oper_login_1  total_qty_oper_login_1  total_qty_oper_login_0  \\\n",
       "0                   42.0                720176.0                 58950.0   \n",
       "1                  914.0              48856658.0              83318932.0   \n",
       "2                   62.0               3246292.0               3233068.0   \n",
       "3                   55.0               2060928.0                653280.0   \n",
       "4                   16.0                316919.0                 27911.0   \n",
       "\n",
       "   total_qty_over_index_and_type  total_qty_over_index  is_wrong_sndr_name  \\\n",
       "0                       779126.0             8290896.0                   0   \n",
       "1                    132175590.0           136819803.0                   0   \n",
       "2                      6479360.0            52708071.0                   0   \n",
       "3                      2714208.0            19562334.0                   0   \n",
       "4                       344830.0             4719186.0                   0   \n",
       "\n",
       "  is_wrong_rcpn_name  is_wrong_phone_number  is_wrong_address  label  \n",
       "0                  0                      0                 0      0  \n",
       "1                  0                      0                 0      0  \n",
       "2                  1                      0                 0      0  \n",
       "3                  0                      0                 0      0  \n",
       "4                  0                      0                 0      0  \n",
       "\n",
       "[5 rows x 29 columns]"
      ]
     },
     "execution_count": 6,
     "metadata": {},
     "output_type": "execute_result"
    }
   ],
   "source": [
    "train_df.head()"
   ]
  },
  {
   "cell_type": "code",
   "execution_count": 7,
   "metadata": {},
   "outputs": [],
   "source": [
    "train_df = preproc.preprocess(train_df, dtype=\"train\")"
   ]
  },
  {
   "cell_type": "code",
   "execution_count": 8,
   "metadata": {},
   "outputs": [
    {
     "data": {
      "text/html": [
       "<div>\n",
       "<style scoped>\n",
       "    .dataframe tbody tr th:only-of-type {\n",
       "        vertical-align: middle;\n",
       "    }\n",
       "\n",
       "    .dataframe tbody tr th {\n",
       "        vertical-align: top;\n",
       "    }\n",
       "\n",
       "    .dataframe thead th {\n",
       "        text-align: right;\n",
       "    }\n",
       "</style>\n",
       "<table border=\"1\" class=\"dataframe\">\n",
       "  <thead>\n",
       "    <tr style=\"text-align: right;\">\n",
       "      <th></th>\n",
       "      <th>id</th>\n",
       "      <th>type</th>\n",
       "      <th>priority</th>\n",
       "      <th>class</th>\n",
       "      <th>is_return</th>\n",
       "      <th>weight</th>\n",
       "      <th>mailtype</th>\n",
       "      <th>mailctg</th>\n",
       "      <th>directctg</th>\n",
       "      <th>transport_pay</th>\n",
       "      <th>...</th>\n",
       "      <th>weight_mfi</th>\n",
       "      <th>price_mfi</th>\n",
       "      <th>total_qty_over_index</th>\n",
       "      <th>is_wrong_sndr_name</th>\n",
       "      <th>is_wrong_rcpn_name</th>\n",
       "      <th>is_wrong_phone_number</th>\n",
       "      <th>is_wrong_address</th>\n",
       "      <th>label</th>\n",
       "      <th>oper_type</th>\n",
       "      <th>oper_attr</th>\n",
       "    </tr>\n",
       "  </thead>\n",
       "  <tbody>\n",
       "    <tr>\n",
       "      <th>0</th>\n",
       "      <td>6818780</td>\n",
       "      <td>18</td>\n",
       "      <td>7503</td>\n",
       "      <td>0</td>\n",
       "      <td>1</td>\n",
       "      <td>0.000551</td>\n",
       "      <td>5</td>\n",
       "      <td>1</td>\n",
       "      <td>2</td>\n",
       "      <td>0.000000</td>\n",
       "      <td>...</td>\n",
       "      <td>0.002278</td>\n",
       "      <td>0.000939</td>\n",
       "      <td>0.016573</td>\n",
       "      <td>0</td>\n",
       "      <td>0</td>\n",
       "      <td>0</td>\n",
       "      <td>0</td>\n",
       "      <td>0</td>\n",
       "      <td>1043</td>\n",
       "      <td>-1</td>\n",
       "    </tr>\n",
       "    <tr>\n",
       "      <th>1</th>\n",
       "      <td>9907176</td>\n",
       "      <td>4</td>\n",
       "      <td>7503</td>\n",
       "      <td>0</td>\n",
       "      <td>1</td>\n",
       "      <td>0.000677</td>\n",
       "      <td>5</td>\n",
       "      <td>1</td>\n",
       "      <td>2</td>\n",
       "      <td>0.000000</td>\n",
       "      <td>...</td>\n",
       "      <td>0.003778</td>\n",
       "      <td>0.002505</td>\n",
       "      <td>0.273502</td>\n",
       "      <td>0</td>\n",
       "      <td>0</td>\n",
       "      <td>0</td>\n",
       "      <td>0</td>\n",
       "      <td>0</td>\n",
       "      <td>1023</td>\n",
       "      <td>-1</td>\n",
       "    </tr>\n",
       "    <tr>\n",
       "      <th>2</th>\n",
       "      <td>3304275</td>\n",
       "      <td>19</td>\n",
       "      <td>7503</td>\n",
       "      <td>0</td>\n",
       "      <td>1</td>\n",
       "      <td>0.000316</td>\n",
       "      <td>5</td>\n",
       "      <td>1</td>\n",
       "      <td>2</td>\n",
       "      <td>0.000000</td>\n",
       "      <td>...</td>\n",
       "      <td>0.003111</td>\n",
       "      <td>0.001365</td>\n",
       "      <td>0.105363</td>\n",
       "      <td>0</td>\n",
       "      <td>1</td>\n",
       "      <td>0</td>\n",
       "      <td>0</td>\n",
       "      <td>0</td>\n",
       "      <td>1018</td>\n",
       "      <td>-1</td>\n",
       "    </tr>\n",
       "    <tr>\n",
       "      <th>3</th>\n",
       "      <td>9020937</td>\n",
       "      <td>19</td>\n",
       "      <td>7503</td>\n",
       "      <td>0</td>\n",
       "      <td>1</td>\n",
       "      <td>0.002633</td>\n",
       "      <td>5</td>\n",
       "      <td>1</td>\n",
       "      <td>2</td>\n",
       "      <td>0.042553</td>\n",
       "      <td>...</td>\n",
       "      <td>0.001833</td>\n",
       "      <td>0.000626</td>\n",
       "      <td>0.039105</td>\n",
       "      <td>0</td>\n",
       "      <td>0</td>\n",
       "      <td>0</td>\n",
       "      <td>0</td>\n",
       "      <td>0</td>\n",
       "      <td>1019</td>\n",
       "      <td>-1</td>\n",
       "    </tr>\n",
       "    <tr>\n",
       "      <th>4</th>\n",
       "      <td>3082311</td>\n",
       "      <td>18</td>\n",
       "      <td>7503</td>\n",
       "      <td>0</td>\n",
       "      <td>1</td>\n",
       "      <td>0.005032</td>\n",
       "      <td>5</td>\n",
       "      <td>1</td>\n",
       "      <td>2</td>\n",
       "      <td>0.063239</td>\n",
       "      <td>...</td>\n",
       "      <td>0.039778</td>\n",
       "      <td>0.006262</td>\n",
       "      <td>0.009434</td>\n",
       "      <td>0</td>\n",
       "      <td>0</td>\n",
       "      <td>0</td>\n",
       "      <td>0</td>\n",
       "      <td>0</td>\n",
       "      <td>1020</td>\n",
       "      <td>-1</td>\n",
       "    </tr>\n",
       "    <tr>\n",
       "      <th>...</th>\n",
       "      <td>...</td>\n",
       "      <td>...</td>\n",
       "      <td>...</td>\n",
       "      <td>...</td>\n",
       "      <td>...</td>\n",
       "      <td>...</td>\n",
       "      <td>...</td>\n",
       "      <td>...</td>\n",
       "      <td>...</td>\n",
       "      <td>...</td>\n",
       "      <td>...</td>\n",
       "      <td>...</td>\n",
       "      <td>...</td>\n",
       "      <td>...</td>\n",
       "      <td>...</td>\n",
       "      <td>...</td>\n",
       "      <td>...</td>\n",
       "      <td>...</td>\n",
       "      <td>...</td>\n",
       "      <td>...</td>\n",
       "      <td>...</td>\n",
       "    </tr>\n",
       "    <tr>\n",
       "      <th>5999995</th>\n",
       "      <td>9958614</td>\n",
       "      <td>4</td>\n",
       "      <td>7503</td>\n",
       "      <td>0</td>\n",
       "      <td>1</td>\n",
       "      <td>0.000158</td>\n",
       "      <td>5</td>\n",
       "      <td>0</td>\n",
       "      <td>2</td>\n",
       "      <td>0.000000</td>\n",
       "      <td>...</td>\n",
       "      <td>0.001333</td>\n",
       "      <td>0.000626</td>\n",
       "      <td>0.376626</td>\n",
       "      <td>0</td>\n",
       "      <td>0</td>\n",
       "      <td>1</td>\n",
       "      <td>0</td>\n",
       "      <td>0</td>\n",
       "      <td>1022</td>\n",
       "      <td>-1</td>\n",
       "    </tr>\n",
       "    <tr>\n",
       "      <th>5999996</th>\n",
       "      <td>2234489</td>\n",
       "      <td>19</td>\n",
       "      <td>7503</td>\n",
       "      <td>0</td>\n",
       "      <td>1</td>\n",
       "      <td>0.000525</td>\n",
       "      <td>5</td>\n",
       "      <td>1</td>\n",
       "      <td>2</td>\n",
       "      <td>0.000000</td>\n",
       "      <td>...</td>\n",
       "      <td>0.005556</td>\n",
       "      <td>0.011471</td>\n",
       "      <td>0.031148</td>\n",
       "      <td>0</td>\n",
       "      <td>0</td>\n",
       "      <td>0</td>\n",
       "      <td>0</td>\n",
       "      <td>0</td>\n",
       "      <td>1022</td>\n",
       "      <td>-1</td>\n",
       "    </tr>\n",
       "    <tr>\n",
       "      <th>5999997</th>\n",
       "      <td>4304572</td>\n",
       "      <td>19</td>\n",
       "      <td>7506</td>\n",
       "      <td>0</td>\n",
       "      <td>1</td>\n",
       "      <td>0.010759</td>\n",
       "      <td>5</td>\n",
       "      <td>1</td>\n",
       "      <td>2</td>\n",
       "      <td>0.113293</td>\n",
       "      <td>...</td>\n",
       "      <td>0.052889</td>\n",
       "      <td>0.005009</td>\n",
       "      <td>0.151109</td>\n",
       "      <td>0</td>\n",
       "      <td>0</td>\n",
       "      <td>0</td>\n",
       "      <td>0</td>\n",
       "      <td>0</td>\n",
       "      <td>1041</td>\n",
       "      <td>-1</td>\n",
       "    </tr>\n",
       "    <tr>\n",
       "      <th>5999998</th>\n",
       "      <td>6550634</td>\n",
       "      <td>19</td>\n",
       "      <td>7506</td>\n",
       "      <td>0</td>\n",
       "      <td>1</td>\n",
       "      <td>0.001703</td>\n",
       "      <td>5</td>\n",
       "      <td>1</td>\n",
       "      <td>2</td>\n",
       "      <td>0.000000</td>\n",
       "      <td>...</td>\n",
       "      <td>0.000000</td>\n",
       "      <td>0.000000</td>\n",
       "      <td>0.079937</td>\n",
       "      <td>0</td>\n",
       "      <td>1</td>\n",
       "      <td>0</td>\n",
       "      <td>0</td>\n",
       "      <td>0</td>\n",
       "      <td>1018</td>\n",
       "      <td>-1</td>\n",
       "    </tr>\n",
       "    <tr>\n",
       "      <th>5999999</th>\n",
       "      <td>6423388</td>\n",
       "      <td>13</td>\n",
       "      <td>7503</td>\n",
       "      <td>4</td>\n",
       "      <td>1</td>\n",
       "      <td>0.000259</td>\n",
       "      <td>5</td>\n",
       "      <td>1</td>\n",
       "      <td>2</td>\n",
       "      <td>0.000000</td>\n",
       "      <td>...</td>\n",
       "      <td>0.002222</td>\n",
       "      <td>0.002505</td>\n",
       "      <td>0.000034</td>\n",
       "      <td>0</td>\n",
       "      <td>0</td>\n",
       "      <td>0</td>\n",
       "      <td>0</td>\n",
       "      <td>0</td>\n",
       "      <td>8</td>\n",
       "      <td>2</td>\n",
       "    </tr>\n",
       "  </tbody>\n",
       "</table>\n",
       "<p>6000000 rows × 21 columns</p>\n",
       "</div>"
      ],
      "text/plain": [
       "              id  type  priority  class  is_return    weight  mailtype  \\\n",
       "0        6818780    18      7503      0          1  0.000551         5   \n",
       "1        9907176     4      7503      0          1  0.000677         5   \n",
       "2        3304275    19      7503      0          1  0.000316         5   \n",
       "3        9020937    19      7503      0          1  0.002633         5   \n",
       "4        3082311    18      7503      0          1  0.005032         5   \n",
       "...          ...   ...       ...    ...        ...       ...       ...   \n",
       "5999995  9958614     4      7503      0          1  0.000158         5   \n",
       "5999996  2234489    19      7503      0          1  0.000525         5   \n",
       "5999997  4304572    19      7506      0          1  0.010759         5   \n",
       "5999998  6550634    19      7506      0          1  0.001703         5   \n",
       "5999999  6423388    13      7503      4          1  0.000259         5   \n",
       "\n",
       "         mailctg  directctg  transport_pay  ...  weight_mfi  price_mfi  \\\n",
       "0              1          2       0.000000  ...    0.002278   0.000939   \n",
       "1              1          2       0.000000  ...    0.003778   0.002505   \n",
       "2              1          2       0.000000  ...    0.003111   0.001365   \n",
       "3              1          2       0.042553  ...    0.001833   0.000626   \n",
       "4              1          2       0.063239  ...    0.039778   0.006262   \n",
       "...          ...        ...            ...  ...         ...        ...   \n",
       "5999995        0          2       0.000000  ...    0.001333   0.000626   \n",
       "5999996        1          2       0.000000  ...    0.005556   0.011471   \n",
       "5999997        1          2       0.113293  ...    0.052889   0.005009   \n",
       "5999998        1          2       0.000000  ...    0.000000   0.000000   \n",
       "5999999        1          2       0.000000  ...    0.002222   0.002505   \n",
       "\n",
       "         total_qty_over_index  is_wrong_sndr_name  is_wrong_rcpn_name  \\\n",
       "0                    0.016573                   0                   0   \n",
       "1                    0.273502                   0                   0   \n",
       "2                    0.105363                   0                   1   \n",
       "3                    0.039105                   0                   0   \n",
       "4                    0.009434                   0                   0   \n",
       "...                       ...                 ...                 ...   \n",
       "5999995              0.376626                   0                   0   \n",
       "5999996              0.031148                   0                   0   \n",
       "5999997              0.151109                   0                   0   \n",
       "5999998              0.079937                   0                   1   \n",
       "5999999              0.000034                   0                   0   \n",
       "\n",
       "         is_wrong_phone_number  is_wrong_address  label  oper_type  oper_attr  \n",
       "0                            0                 0      0       1043         -1  \n",
       "1                            0                 0      0       1023         -1  \n",
       "2                            0                 0      0       1018         -1  \n",
       "3                            0                 0      0       1019         -1  \n",
       "4                            0                 0      0       1020         -1  \n",
       "...                        ...               ...    ...        ...        ...  \n",
       "5999995                      1                 0      0       1022         -1  \n",
       "5999996                      0                 0      0       1022         -1  \n",
       "5999997                      0                 0      0       1041         -1  \n",
       "5999998                      0                 0      0       1018         -1  \n",
       "5999999                      0                 0      0          8          2  \n",
       "\n",
       "[6000000 rows x 21 columns]"
      ]
     },
     "execution_count": 8,
     "metadata": {},
     "output_type": "execute_result"
    }
   ],
   "source": [
    "train_df"
   ]
  },
  {
   "cell_type": "code",
   "execution_count": 37,
   "metadata": {},
   "outputs": [],
   "source": [
    "X = train_df.drop([\"label\", \"id\"], axis=1)\n",
    "y = train_df[\"label\"]"
   ]
  },
  {
   "cell_type": "code",
   "execution_count": 39,
   "metadata": {},
   "outputs": [],
   "source": [
    "X_train, X_val, y_train, y_val = train_test_split(X, y, test_size=0.2, random_state=0)"
   ]
  },
  {
   "cell_type": "markdown",
   "metadata": {},
   "source": [
    "## Train data"
   ]
  },
  {
   "cell_type": "code",
   "execution_count": 40,
   "metadata": {},
   "outputs": [],
   "source": [
    "import os\n",
    "import json\n",
    "import mlflow\n",
    "import datetime\n",
    "from catboost import CatBoostClassifier"
   ]
  },
  {
   "cell_type": "code",
   "execution_count": 41,
   "metadata": {},
   "outputs": [
    {
     "data": {
      "text/plain": [
       "<Experiment: artifact_location='s3://arts/3', creation_time=1667396965657, experiment_id='3', last_update_time=1667396965657, lifecycle_stage='active', name='pochta-task', tags={}>"
      ]
     },
     "execution_count": 41,
     "metadata": {},
     "output_type": "execute_result"
    }
   ],
   "source": [
    "remote_server_uri = os.getenv(\"MLFLOW_TRACKING_URI\")\n",
    "mlflow.set_tracking_uri(remote_server_uri)\n",
    "mlflow.set_experiment(\"pochta-task\")"
   ]
  },
  {
   "cell_type": "code",
   "execution_count": 42,
   "metadata": {},
   "outputs": [],
   "source": [
    "cat_features = [\n",
    "    \"type\",\n",
    "    \"priority\",\n",
    "    \"class\",\n",
    "    \"is_return\",\n",
    "    \"mailtype\",\n",
    "    \"mailctg\",\n",
    "    \"directctg\",\n",
    "    \"postmark\",\n",
    "    \"is_wrong_sndr_name\",\n",
    "    \"is_wrong_rcpn_name\",\n",
    "    \"is_wrong_phone_number\",\n",
    "    \"is_wrong_address\",\n",
    "    \"oper_type\",\n",
    "    \"oper_attr\",\n",
    "]"
   ]
  },
  {
   "cell_type": "code",
   "execution_count": 43,
   "metadata": {},
   "outputs": [],
   "source": [
    "ITERATIONS = 50\n",
    "RANDOM_SEED = 42\n",
    "LEARNING_RATE = 0.5\n",
    "\n",
    "MODEL_NAME = 'catbost'\n",
    "TIMESTAMP = datetime.datetime.now().strftime(\"%m-%d-%Y-%H-%M-%S\")\n",
    "LOG_DIR = f'log/catbost-{TIMESTAMP}'\n",
    "\n",
    "PLOT_FILE = f'{LOG_DIR}/plot'\n",
    "SNAPSHOT_FILE = f'{LOG_DIR}/snapshot'\n",
    "MODELS_PATH = f'{LOG_DIR}/models'"
   ]
  },
  {
   "cell_type": "code",
   "execution_count": 44,
   "metadata": {},
   "outputs": [],
   "source": [
    "if not os.path.exists(LOG_DIR):\n",
    "    os.makedirs(LOG_DIR)\n",
    "if not os.path.exists(MODELS_PATH):\n",
    "    os.makedirs(MODELS_PATH)"
   ]
  },
  {
   "cell_type": "code",
   "execution_count": 47,
   "metadata": {},
   "outputs": [],
   "source": [
    "mlflow.start_run()\n",
    "mlflow.set_tag(\"mlflow.runName\", f\"{MODEL_NAME}-{TIMESTAMP}\")"
   ]
  },
  {
   "cell_type": "code",
   "execution_count": 48,
   "metadata": {},
   "outputs": [],
   "source": [
    "params ={\n",
    "    \"iterations\": ITERATIONS,\n",
    "    \"batch_size\":RANDOM_SEED,\n",
    "    \"num_epochs\": LEARNING_RATE,\n",
    "    \"random_seed\": RANDOM_SEED,\n",
    "}\n",
    "mlflow.log_params(params)"
   ]
  },
  {
   "cell_type": "code",
   "execution_count": 84,
   "metadata": {},
   "outputs": [],
   "source": [
    "from sklearn.metrics import confusion_matrix\n",
    "from scipy.special import expit\n",
    "\n",
    "\n",
    "class FinalMetric(object):\n",
    "    @staticmethod\n",
    "    def get_profit(y_true, y_pred):\n",
    "        y_pred = expit(y_pred).astype(int)\n",
    "        y_true = y_true.astype(int)\n",
    "        #print(\"ACCURACY:\",(y_pred==y_true).mean())\n",
    "        tn, fp, fn, tp = confusion_matrix(y_true, y_pred).ravel()\n",
    "        \n",
    "        print(tn, fp, fn, tp)\n",
    "        print(type(tn), type(fp), type(fn), type(tp))\n",
    "        recall = tp/(tp+fn)\n",
    "        tpr = tp/(tp+fn)\n",
    "        fpr = fp/(fp+tp)\n",
    "        auc = (1+tpr-fpr)/2\n",
    "\n",
    "        loss = 0.1*recall + 0.9*auc\n",
    "        return loss\n",
    "    \n",
    "    def is_max_optimal(self):\n",
    "        return True # greater is better\n",
    "\n",
    "    def evaluate(self, approxes, target, weight):            \n",
    "        assert len(approxes) == 1\n",
    "        assert len(target) == len(approxes[0])\n",
    "        y_true = np.array(target).astype(int)\n",
    "        approx = approxes[0]\n",
    "        score = self.get_profit(y_true, approx)\n",
    "        return score, 1\n",
    "\n",
    "    def get_final_error(self, error, weight):\n",
    "        return error"
   ]
  },
  {
   "cell_type": "code",
   "execution_count": 85,
   "metadata": {},
   "outputs": [
    {
     "name": "stderr",
     "output_type": "stream",
     "text": [
      "/home/cva/Desktop/ITMO/deep-learninging-practice/TableBC/.venv/lib64/python3.8/site-packages/catboost/core.py:2266: UserWarning: Failed to import numba for optimizing custom metrics and objectives\n",
      "  _check_train_params(params)\n"
     ]
    },
    {
     "name": "stdout",
     "output_type": "stream",
     "text": [
      "\n",
      "4663067 0 136933 0\n",
      "<class 'numpy.int64'> <class 'numpy.int64'> <class 'numpy.int64'> <class 'numpy.int64'>\n"
     ]
    },
    {
     "name": "stderr",
     "output_type": "stream",
     "text": [
      "/tmp/ipykernel_5925/1907625131.py:17: RuntimeWarning: invalid value encountered in long_scalars\n",
      "  fpr = fp/(fp+tp)\n"
     ]
    },
    {
     "name": "stdout",
     "output_type": "stream",
     "text": [
      "\n",
      "1165953 0 34047 0\n",
      "<class 'numpy.int64'> <class 'numpy.int64'> <class 'numpy.int64'> <class 'numpy.int64'>\n",
      "0:\tlearn: nan\ttest: nan\tbest: -inf (-1)\ttotal: 2.74s\tremaining: 2m 14s\n"
     ]
    },
    {
     "name": "stderr",
     "output_type": "stream",
     "text": [
      "/tmp/ipykernel_5925/1907625131.py:17: RuntimeWarning: invalid value encountered in long_scalars\n",
      "  fpr = fp/(fp+tp)\n"
     ]
    },
    {
     "name": "stdout",
     "output_type": "stream",
     "text": [
      "\n",
      "4663067 0 136933 0\n",
      "<class 'numpy.int64'> <class 'numpy.int64'> <class 'numpy.int64'> <class 'numpy.int64'>\n"
     ]
    },
    {
     "name": "stderr",
     "output_type": "stream",
     "text": [
      "/tmp/ipykernel_5925/1907625131.py:17: RuntimeWarning: invalid value encountered in long_scalars\n",
      "  fpr = fp/(fp+tp)\n"
     ]
    },
    {
     "name": "stdout",
     "output_type": "stream",
     "text": [
      "\n",
      "1165953 0 34047 0\n",
      "<class 'numpy.int64'> <class 'numpy.int64'> <class 'numpy.int64'> <class 'numpy.int64'>\n",
      "1:\tlearn: nan\ttest: nan\tbest: -inf (-1)\ttotal: 4.8s\tremaining: 1m 55s\n"
     ]
    },
    {
     "name": "stderr",
     "output_type": "stream",
     "text": [
      "/tmp/ipykernel_5925/1907625131.py:17: RuntimeWarning: invalid value encountered in long_scalars\n",
      "  fpr = fp/(fp+tp)\n"
     ]
    },
    {
     "name": "stdout",
     "output_type": "stream",
     "text": [
      "\n",
      "4663067 0 136933 0\n",
      "<class 'numpy.int64'> <class 'numpy.int64'> <class 'numpy.int64'> <class 'numpy.int64'>\n"
     ]
    },
    {
     "name": "stderr",
     "output_type": "stream",
     "text": [
      "/tmp/ipykernel_5925/1907625131.py:17: RuntimeWarning: invalid value encountered in long_scalars\n",
      "  fpr = fp/(fp+tp)\n"
     ]
    },
    {
     "name": "stdout",
     "output_type": "stream",
     "text": [
      "\n",
      "1165953 0 34047 0\n",
      "<class 'numpy.int64'> <class 'numpy.int64'> <class 'numpy.int64'> <class 'numpy.int64'>\n",
      "2:\tlearn: nan\ttest: nan\tbest: -inf (-1)\ttotal: 6.83s\tremaining: 1m 47s\n"
     ]
    },
    {
     "name": "stderr",
     "output_type": "stream",
     "text": [
      "/tmp/ipykernel_5925/1907625131.py:17: RuntimeWarning: invalid value encountered in long_scalars\n",
      "  fpr = fp/(fp+tp)\n"
     ]
    },
    {
     "name": "stdout",
     "output_type": "stream",
     "text": [
      "\n",
      "4663067 0 136933 0\n",
      "<class 'numpy.int64'> <class 'numpy.int64'> <class 'numpy.int64'> <class 'numpy.int64'>\n"
     ]
    },
    {
     "name": "stderr",
     "output_type": "stream",
     "text": [
      "/tmp/ipykernel_5925/1907625131.py:17: RuntimeWarning: invalid value encountered in long_scalars\n",
      "  fpr = fp/(fp+tp)\n"
     ]
    },
    {
     "name": "stdout",
     "output_type": "stream",
     "text": [
      "\n",
      "1165953 0 34047 0\n",
      "<class 'numpy.int64'> <class 'numpy.int64'> <class 'numpy.int64'> <class 'numpy.int64'>\n",
      "3:\tlearn: nan\ttest: nan\tbest: -inf (-1)\ttotal: 8.88s\tremaining: 1m 42s\n"
     ]
    },
    {
     "name": "stderr",
     "output_type": "stream",
     "text": [
      "/tmp/ipykernel_5925/1907625131.py:17: RuntimeWarning: invalid value encountered in long_scalars\n",
      "  fpr = fp/(fp+tp)\n"
     ]
    },
    {
     "name": "stdout",
     "output_type": "stream",
     "text": [
      "\n",
      "4663067 0 136933 0\n",
      "<class 'numpy.int64'> <class 'numpy.int64'> <class 'numpy.int64'> <class 'numpy.int64'>\n"
     ]
    },
    {
     "name": "stderr",
     "output_type": "stream",
     "text": [
      "/tmp/ipykernel_5925/1907625131.py:17: RuntimeWarning: invalid value encountered in long_scalars\n",
      "  fpr = fp/(fp+tp)\n"
     ]
    },
    {
     "name": "stdout",
     "output_type": "stream",
     "text": [
      "\n",
      "1165953 0 34047 0\n",
      "<class 'numpy.int64'> <class 'numpy.int64'> <class 'numpy.int64'> <class 'numpy.int64'>\n",
      "4:\tlearn: nan\ttest: nan\tbest: -inf (-1)\ttotal: 11.2s\tremaining: 1m 40s\n"
     ]
    },
    {
     "name": "stderr",
     "output_type": "stream",
     "text": [
      "/tmp/ipykernel_5925/1907625131.py:17: RuntimeWarning: invalid value encountered in long_scalars\n",
      "  fpr = fp/(fp+tp)\n"
     ]
    },
    {
     "name": "stdout",
     "output_type": "stream",
     "text": [
      "\n",
      "4663067 0 136933 0\n",
      "<class 'numpy.int64'> <class 'numpy.int64'> <class 'numpy.int64'> <class 'numpy.int64'>\n"
     ]
    },
    {
     "name": "stderr",
     "output_type": "stream",
     "text": [
      "/tmp/ipykernel_5925/1907625131.py:17: RuntimeWarning: invalid value encountered in long_scalars\n",
      "  fpr = fp/(fp+tp)\n"
     ]
    },
    {
     "name": "stdout",
     "output_type": "stream",
     "text": [
      "\n",
      "1165953 0 34047 0\n",
      "<class 'numpy.int64'> <class 'numpy.int64'> <class 'numpy.int64'> <class 'numpy.int64'>\n",
      "5:\tlearn: nan\ttest: nan\tbest: -inf (-1)\ttotal: 13.7s\tremaining: 1m 40s\n"
     ]
    },
    {
     "name": "stderr",
     "output_type": "stream",
     "text": [
      "/tmp/ipykernel_5925/1907625131.py:17: RuntimeWarning: invalid value encountered in long_scalars\n",
      "  fpr = fp/(fp+tp)\n"
     ]
    },
    {
     "name": "stdout",
     "output_type": "stream",
     "text": [
      "\n",
      "4663067 0 136933 0\n",
      "<class 'numpy.int64'> <class 'numpy.int64'> <class 'numpy.int64'> <class 'numpy.int64'>\n"
     ]
    },
    {
     "name": "stderr",
     "output_type": "stream",
     "text": [
      "/tmp/ipykernel_5925/1907625131.py:17: RuntimeWarning: invalid value encountered in long_scalars\n",
      "  fpr = fp/(fp+tp)\n"
     ]
    },
    {
     "name": "stdout",
     "output_type": "stream",
     "text": [
      "\n",
      "1165953 0 34047 0\n",
      "<class 'numpy.int64'> <class 'numpy.int64'> <class 'numpy.int64'> <class 'numpy.int64'>\n",
      "6:\tlearn: nan\ttest: nan\tbest: -inf (-1)\ttotal: 15.7s\tremaining: 1m 36s\n"
     ]
    },
    {
     "name": "stderr",
     "output_type": "stream",
     "text": [
      "/tmp/ipykernel_5925/1907625131.py:17: RuntimeWarning: invalid value encountered in long_scalars\n",
      "  fpr = fp/(fp+tp)\n"
     ]
    },
    {
     "name": "stdout",
     "output_type": "stream",
     "text": [
      "\n",
      "4663067 0 136933 0\n",
      "<class 'numpy.int64'> <class 'numpy.int64'> <class 'numpy.int64'> <class 'numpy.int64'>\n"
     ]
    },
    {
     "name": "stderr",
     "output_type": "stream",
     "text": [
      "/tmp/ipykernel_5925/1907625131.py:17: RuntimeWarning: invalid value encountered in long_scalars\n",
      "  fpr = fp/(fp+tp)\n"
     ]
    },
    {
     "name": "stdout",
     "output_type": "stream",
     "text": [
      "\n",
      "1165953 0 34047 0\n",
      "<class 'numpy.int64'> <class 'numpy.int64'> <class 'numpy.int64'> <class 'numpy.int64'>\n",
      "7:\tlearn: nan\ttest: nan\tbest: -inf (-1)\ttotal: 17.7s\tremaining: 1m 32s\n"
     ]
    },
    {
     "name": "stderr",
     "output_type": "stream",
     "text": [
      "/tmp/ipykernel_5925/1907625131.py:17: RuntimeWarning: invalid value encountered in long_scalars\n",
      "  fpr = fp/(fp+tp)\n"
     ]
    },
    {
     "name": "stdout",
     "output_type": "stream",
     "text": [
      "\n",
      "4663067 0 136933 0\n",
      "<class 'numpy.int64'> <class 'numpy.int64'> <class 'numpy.int64'> <class 'numpy.int64'>\n"
     ]
    },
    {
     "name": "stderr",
     "output_type": "stream",
     "text": [
      "/tmp/ipykernel_5925/1907625131.py:17: RuntimeWarning: invalid value encountered in long_scalars\n",
      "  fpr = fp/(fp+tp)\n"
     ]
    },
    {
     "name": "stdout",
     "output_type": "stream",
     "text": [
      "\n",
      "1165953 0 34047 0\n",
      "<class 'numpy.int64'> <class 'numpy.int64'> <class 'numpy.int64'> <class 'numpy.int64'>\n",
      "8:\tlearn: nan\ttest: nan\tbest: -inf (-1)\ttotal: 19.5s\tremaining: 1m 28s\n"
     ]
    },
    {
     "name": "stderr",
     "output_type": "stream",
     "text": [
      "/tmp/ipykernel_5925/1907625131.py:17: RuntimeWarning: invalid value encountered in long_scalars\n",
      "  fpr = fp/(fp+tp)\n"
     ]
    },
    {
     "name": "stdout",
     "output_type": "stream",
     "text": [
      "\n",
      "4663067 0 136933 0\n",
      "<class 'numpy.int64'> <class 'numpy.int64'> <class 'numpy.int64'> <class 'numpy.int64'>\n"
     ]
    },
    {
     "name": "stderr",
     "output_type": "stream",
     "text": [
      "/tmp/ipykernel_5925/1907625131.py:17: RuntimeWarning: invalid value encountered in long_scalars\n",
      "  fpr = fp/(fp+tp)\n"
     ]
    },
    {
     "name": "stdout",
     "output_type": "stream",
     "text": [
      "\n",
      "1165953 0 34047 0\n",
      "<class 'numpy.int64'> <class 'numpy.int64'> <class 'numpy.int64'> <class 'numpy.int64'>\n",
      "9:\tlearn: nan\ttest: nan\tbest: -inf (-1)\ttotal: 21.5s\tremaining: 1m 26s\n"
     ]
    },
    {
     "name": "stderr",
     "output_type": "stream",
     "text": [
      "/tmp/ipykernel_5925/1907625131.py:17: RuntimeWarning: invalid value encountered in long_scalars\n",
      "  fpr = fp/(fp+tp)\n"
     ]
    },
    {
     "name": "stdout",
     "output_type": "stream",
     "text": [
      "\n",
      "4663067 0 136933 0\n",
      "<class 'numpy.int64'> <class 'numpy.int64'> <class 'numpy.int64'> <class 'numpy.int64'>\n"
     ]
    },
    {
     "name": "stderr",
     "output_type": "stream",
     "text": [
      "/tmp/ipykernel_5925/1907625131.py:17: RuntimeWarning: invalid value encountered in long_scalars\n",
      "  fpr = fp/(fp+tp)\n"
     ]
    },
    {
     "name": "stdout",
     "output_type": "stream",
     "text": [
      "\n",
      "1165953 0 34047 0\n",
      "<class 'numpy.int64'> <class 'numpy.int64'> <class 'numpy.int64'> <class 'numpy.int64'>\n",
      "10:\tlearn: nan\ttest: nan\tbest: -inf (-1)\ttotal: 23.5s\tremaining: 1m 23s\n"
     ]
    },
    {
     "name": "stderr",
     "output_type": "stream",
     "text": [
      "/tmp/ipykernel_5925/1907625131.py:17: RuntimeWarning: invalid value encountered in long_scalars\n",
      "  fpr = fp/(fp+tp)\n"
     ]
    },
    {
     "name": "stdout",
     "output_type": "stream",
     "text": [
      "\n",
      "4663067 0 136933 0\n",
      "<class 'numpy.int64'> <class 'numpy.int64'> <class 'numpy.int64'> <class 'numpy.int64'>\n"
     ]
    },
    {
     "name": "stderr",
     "output_type": "stream",
     "text": [
      "/tmp/ipykernel_5925/1907625131.py:17: RuntimeWarning: invalid value encountered in long_scalars\n",
      "  fpr = fp/(fp+tp)\n"
     ]
    },
    {
     "name": "stdout",
     "output_type": "stream",
     "text": [
      "\n",
      "1165953 0 34047 0\n",
      "<class 'numpy.int64'> <class 'numpy.int64'> <class 'numpy.int64'> <class 'numpy.int64'>\n",
      "11:\tlearn: nan\ttest: nan\tbest: -inf (-1)\ttotal: 25.5s\tremaining: 1m 20s\n"
     ]
    },
    {
     "name": "stderr",
     "output_type": "stream",
     "text": [
      "/tmp/ipykernel_5925/1907625131.py:17: RuntimeWarning: invalid value encountered in long_scalars\n",
      "  fpr = fp/(fp+tp)\n"
     ]
    },
    {
     "name": "stdout",
     "output_type": "stream",
     "text": [
      "\n",
      "4663067 0 136933 0\n",
      "<class 'numpy.int64'> <class 'numpy.int64'> <class 'numpy.int64'> <class 'numpy.int64'>\n"
     ]
    },
    {
     "name": "stderr",
     "output_type": "stream",
     "text": [
      "/tmp/ipykernel_5925/1907625131.py:17: RuntimeWarning: invalid value encountered in long_scalars\n",
      "  fpr = fp/(fp+tp)\n"
     ]
    },
    {
     "name": "stdout",
     "output_type": "stream",
     "text": [
      "\n",
      "1165953 0 34047 0\n",
      "<class 'numpy.int64'> <class 'numpy.int64'> <class 'numpy.int64'> <class 'numpy.int64'>\n",
      "12:\tlearn: nan\ttest: nan\tbest: -inf (-1)\ttotal: 27.6s\tremaining: 1m 18s\n"
     ]
    },
    {
     "name": "stderr",
     "output_type": "stream",
     "text": [
      "/tmp/ipykernel_5925/1907625131.py:17: RuntimeWarning: invalid value encountered in long_scalars\n",
      "  fpr = fp/(fp+tp)\n"
     ]
    },
    {
     "name": "stdout",
     "output_type": "stream",
     "text": [
      "\n",
      "4663067 0 136933 0\n",
      "<class 'numpy.int64'> <class 'numpy.int64'> <class 'numpy.int64'> <class 'numpy.int64'>\n"
     ]
    },
    {
     "name": "stderr",
     "output_type": "stream",
     "text": [
      "/tmp/ipykernel_5925/1907625131.py:17: RuntimeWarning: invalid value encountered in long_scalars\n",
      "  fpr = fp/(fp+tp)\n"
     ]
    },
    {
     "name": "stdout",
     "output_type": "stream",
     "text": [
      "\n",
      "1165953 0 34047 0\n",
      "<class 'numpy.int64'> <class 'numpy.int64'> <class 'numpy.int64'> <class 'numpy.int64'>\n",
      "13:\tlearn: nan\ttest: nan\tbest: -inf (-1)\ttotal: 29.6s\tremaining: 1m 16s\n"
     ]
    },
    {
     "name": "stderr",
     "output_type": "stream",
     "text": [
      "/tmp/ipykernel_5925/1907625131.py:17: RuntimeWarning: invalid value encountered in long_scalars\n",
      "  fpr = fp/(fp+tp)\n"
     ]
    },
    {
     "name": "stdout",
     "output_type": "stream",
     "text": [
      "\n",
      "4663067 0 136933 0\n",
      "<class 'numpy.int64'> <class 'numpy.int64'> <class 'numpy.int64'> <class 'numpy.int64'>\n"
     ]
    },
    {
     "name": "stderr",
     "output_type": "stream",
     "text": [
      "/tmp/ipykernel_5925/1907625131.py:17: RuntimeWarning: invalid value encountered in long_scalars\n",
      "  fpr = fp/(fp+tp)\n"
     ]
    },
    {
     "name": "stdout",
     "output_type": "stream",
     "text": [
      "\n",
      "1165953 0 34047 0\n",
      "<class 'numpy.int64'> <class 'numpy.int64'> <class 'numpy.int64'> <class 'numpy.int64'>\n",
      "14:\tlearn: nan\ttest: nan\tbest: -inf (-1)\ttotal: 31.7s\tremaining: 1m 14s\n"
     ]
    },
    {
     "name": "stderr",
     "output_type": "stream",
     "text": [
      "/tmp/ipykernel_5925/1907625131.py:17: RuntimeWarning: invalid value encountered in long_scalars\n",
      "  fpr = fp/(fp+tp)\n"
     ]
    },
    {
     "name": "stdout",
     "output_type": "stream",
     "text": [
      "\n",
      "4663067 0 136933 0\n",
      "<class 'numpy.int64'> <class 'numpy.int64'> <class 'numpy.int64'> <class 'numpy.int64'>\n"
     ]
    },
    {
     "name": "stderr",
     "output_type": "stream",
     "text": [
      "/tmp/ipykernel_5925/1907625131.py:17: RuntimeWarning: invalid value encountered in long_scalars\n",
      "  fpr = fp/(fp+tp)\n"
     ]
    },
    {
     "name": "stdout",
     "output_type": "stream",
     "text": [
      "\n",
      "1165953 0 34047 0\n",
      "<class 'numpy.int64'> <class 'numpy.int64'> <class 'numpy.int64'> <class 'numpy.int64'>\n",
      "15:\tlearn: nan\ttest: nan\tbest: -inf (-1)\ttotal: 33.8s\tremaining: 1m 11s\n"
     ]
    },
    {
     "name": "stderr",
     "output_type": "stream",
     "text": [
      "/tmp/ipykernel_5925/1907625131.py:17: RuntimeWarning: invalid value encountered in long_scalars\n",
      "  fpr = fp/(fp+tp)\n"
     ]
    },
    {
     "name": "stdout",
     "output_type": "stream",
     "text": [
      "\n",
      "4663067 0 136933 0\n",
      "<class 'numpy.int64'> <class 'numpy.int64'> <class 'numpy.int64'> <class 'numpy.int64'>\n"
     ]
    },
    {
     "name": "stderr",
     "output_type": "stream",
     "text": [
      "/tmp/ipykernel_5925/1907625131.py:17: RuntimeWarning: invalid value encountered in long_scalars\n",
      "  fpr = fp/(fp+tp)\n"
     ]
    },
    {
     "name": "stdout",
     "output_type": "stream",
     "text": [
      "\n",
      "1165953 0 34047 0\n",
      "<class 'numpy.int64'> <class 'numpy.int64'> <class 'numpy.int64'> <class 'numpy.int64'>\n",
      "16:\tlearn: nan\ttest: nan\tbest: -inf (-1)\ttotal: 36.3s\tremaining: 1m 10s\n"
     ]
    },
    {
     "name": "stderr",
     "output_type": "stream",
     "text": [
      "/tmp/ipykernel_5925/1907625131.py:17: RuntimeWarning: invalid value encountered in long_scalars\n",
      "  fpr = fp/(fp+tp)\n"
     ]
    },
    {
     "name": "stdout",
     "output_type": "stream",
     "text": [
      "\n",
      "4663067 0 136933 0\n",
      "<class 'numpy.int64'> <class 'numpy.int64'> <class 'numpy.int64'> <class 'numpy.int64'>\n"
     ]
    },
    {
     "name": "stderr",
     "output_type": "stream",
     "text": [
      "/tmp/ipykernel_5925/1907625131.py:17: RuntimeWarning: invalid value encountered in long_scalars\n",
      "  fpr = fp/(fp+tp)\n"
     ]
    },
    {
     "name": "stdout",
     "output_type": "stream",
     "text": [
      "\n",
      "1165953 0 34047 0\n",
      "<class 'numpy.int64'> <class 'numpy.int64'> <class 'numpy.int64'> <class 'numpy.int64'>\n",
      "17:\tlearn: nan\ttest: nan\tbest: -inf (-1)\ttotal: 38.4s\tremaining: 1m 8s\n"
     ]
    },
    {
     "name": "stderr",
     "output_type": "stream",
     "text": [
      "/tmp/ipykernel_5925/1907625131.py:17: RuntimeWarning: invalid value encountered in long_scalars\n",
      "  fpr = fp/(fp+tp)\n"
     ]
    },
    {
     "name": "stdout",
     "output_type": "stream",
     "text": [
      "\n",
      "4663067 0 136933 0\n",
      "<class 'numpy.int64'> <class 'numpy.int64'> <class 'numpy.int64'> <class 'numpy.int64'>\n"
     ]
    },
    {
     "name": "stderr",
     "output_type": "stream",
     "text": [
      "/tmp/ipykernel_5925/1907625131.py:17: RuntimeWarning: invalid value encountered in long_scalars\n",
      "  fpr = fp/(fp+tp)\n"
     ]
    },
    {
     "name": "stdout",
     "output_type": "stream",
     "text": [
      "\n",
      "1165953 0 34047 0\n",
      "<class 'numpy.int64'> <class 'numpy.int64'> <class 'numpy.int64'> <class 'numpy.int64'>\n",
      "18:\tlearn: nan\ttest: nan\tbest: -inf (-1)\ttotal: 40.6s\tremaining: 1m 6s\n"
     ]
    },
    {
     "name": "stderr",
     "output_type": "stream",
     "text": [
      "/tmp/ipykernel_5925/1907625131.py:17: RuntimeWarning: invalid value encountered in long_scalars\n",
      "  fpr = fp/(fp+tp)\n"
     ]
    },
    {
     "name": "stdout",
     "output_type": "stream",
     "text": [
      "\n",
      "4663067 0 136933 0\n",
      "<class 'numpy.int64'> <class 'numpy.int64'> <class 'numpy.int64'> <class 'numpy.int64'>\n"
     ]
    },
    {
     "name": "stderr",
     "output_type": "stream",
     "text": [
      "/tmp/ipykernel_5925/1907625131.py:17: RuntimeWarning: invalid value encountered in long_scalars\n",
      "  fpr = fp/(fp+tp)\n"
     ]
    },
    {
     "name": "stdout",
     "output_type": "stream",
     "text": [
      "\n",
      "1165953 0 34047 0\n",
      "<class 'numpy.int64'> <class 'numpy.int64'> <class 'numpy.int64'> <class 'numpy.int64'>\n",
      "19:\tlearn: nan\ttest: nan\tbest: -inf (-1)\ttotal: 42.6s\tremaining: 1m 3s\n"
     ]
    },
    {
     "name": "stderr",
     "output_type": "stream",
     "text": [
      "/tmp/ipykernel_5925/1907625131.py:17: RuntimeWarning: invalid value encountered in long_scalars\n",
      "  fpr = fp/(fp+tp)\n"
     ]
    },
    {
     "name": "stdout",
     "output_type": "stream",
     "text": [
      "\n",
      "4663067 0 136933 0\n",
      "<class 'numpy.int64'> <class 'numpy.int64'> <class 'numpy.int64'> <class 'numpy.int64'>\n"
     ]
    },
    {
     "name": "stderr",
     "output_type": "stream",
     "text": [
      "/tmp/ipykernel_5925/1907625131.py:17: RuntimeWarning: invalid value encountered in long_scalars\n",
      "  fpr = fp/(fp+tp)\n"
     ]
    },
    {
     "name": "stdout",
     "output_type": "stream",
     "text": [
      "\n",
      "1165953 0 34047 0\n",
      "<class 'numpy.int64'> <class 'numpy.int64'> <class 'numpy.int64'> <class 'numpy.int64'>\n",
      "20:\tlearn: nan\ttest: nan\tbest: -inf (-1)\ttotal: 44.6s\tremaining: 1m 1s\n"
     ]
    },
    {
     "name": "stderr",
     "output_type": "stream",
     "text": [
      "/tmp/ipykernel_5925/1907625131.py:17: RuntimeWarning: invalid value encountered in long_scalars\n",
      "  fpr = fp/(fp+tp)\n"
     ]
    },
    {
     "name": "stdout",
     "output_type": "stream",
     "text": [
      "\n",
      "4663067 0 136933 0\n",
      "<class 'numpy.int64'> <class 'numpy.int64'> <class 'numpy.int64'> <class 'numpy.int64'>\n"
     ]
    },
    {
     "name": "stderr",
     "output_type": "stream",
     "text": [
      "/tmp/ipykernel_5925/1907625131.py:17: RuntimeWarning: invalid value encountered in long_scalars\n",
      "  fpr = fp/(fp+tp)\n"
     ]
    },
    {
     "name": "stdout",
     "output_type": "stream",
     "text": [
      "\n",
      "1165953 0 34047 0\n",
      "<class 'numpy.int64'> <class 'numpy.int64'> <class 'numpy.int64'> <class 'numpy.int64'>\n",
      "21:\tlearn: nan\ttest: nan\tbest: -inf (-1)\ttotal: 46.5s\tremaining: 59.2s\n"
     ]
    },
    {
     "name": "stderr",
     "output_type": "stream",
     "text": [
      "/tmp/ipykernel_5925/1907625131.py:17: RuntimeWarning: invalid value encountered in long_scalars\n",
      "  fpr = fp/(fp+tp)\n"
     ]
    },
    {
     "name": "stdout",
     "output_type": "stream",
     "text": [
      "\n",
      "4663067 0 136933 0\n",
      "<class 'numpy.int64'> <class 'numpy.int64'> <class 'numpy.int64'> <class 'numpy.int64'>\n"
     ]
    },
    {
     "name": "stderr",
     "output_type": "stream",
     "text": [
      "/tmp/ipykernel_5925/1907625131.py:17: RuntimeWarning: invalid value encountered in long_scalars\n",
      "  fpr = fp/(fp+tp)\n"
     ]
    },
    {
     "name": "stdout",
     "output_type": "stream",
     "text": [
      "\n",
      "1165953 0 34047 0\n",
      "<class 'numpy.int64'> <class 'numpy.int64'> <class 'numpy.int64'> <class 'numpy.int64'>\n",
      "22:\tlearn: nan\ttest: nan\tbest: -inf (-1)\ttotal: 48.5s\tremaining: 56.9s\n"
     ]
    },
    {
     "name": "stderr",
     "output_type": "stream",
     "text": [
      "/tmp/ipykernel_5925/1907625131.py:17: RuntimeWarning: invalid value encountered in long_scalars\n",
      "  fpr = fp/(fp+tp)\n"
     ]
    },
    {
     "name": "stdout",
     "output_type": "stream",
     "text": [
      "\n",
      "4663067 0 136933 0\n",
      "<class 'numpy.int64'> <class 'numpy.int64'> <class 'numpy.int64'> <class 'numpy.int64'>\n"
     ]
    },
    {
     "name": "stderr",
     "output_type": "stream",
     "text": [
      "/tmp/ipykernel_5925/1907625131.py:17: RuntimeWarning: invalid value encountered in long_scalars\n",
      "  fpr = fp/(fp+tp)\n"
     ]
    },
    {
     "name": "stdout",
     "output_type": "stream",
     "text": [
      "\n",
      "1165953 0 34047 0\n",
      "<class 'numpy.int64'> <class 'numpy.int64'> <class 'numpy.int64'> <class 'numpy.int64'>\n",
      "23:\tlearn: nan\ttest: nan\tbest: -inf (-1)\ttotal: 50.7s\tremaining: 55s\n"
     ]
    },
    {
     "name": "stderr",
     "output_type": "stream",
     "text": [
      "/tmp/ipykernel_5925/1907625131.py:17: RuntimeWarning: invalid value encountered in long_scalars\n",
      "  fpr = fp/(fp+tp)\n"
     ]
    },
    {
     "name": "stdout",
     "output_type": "stream",
     "text": [
      "\n",
      "4663067 0 136933 0\n",
      "<class 'numpy.int64'> <class 'numpy.int64'> <class 'numpy.int64'> <class 'numpy.int64'>\n"
     ]
    },
    {
     "name": "stderr",
     "output_type": "stream",
     "text": [
      "/tmp/ipykernel_5925/1907625131.py:17: RuntimeWarning: invalid value encountered in long_scalars\n",
      "  fpr = fp/(fp+tp)\n"
     ]
    },
    {
     "name": "stdout",
     "output_type": "stream",
     "text": [
      "\n",
      "1165953 0 34047 0\n",
      "<class 'numpy.int64'> <class 'numpy.int64'> <class 'numpy.int64'> <class 'numpy.int64'>\n",
      "24:\tlearn: nan\ttest: nan\tbest: -inf (-1)\ttotal: 52.8s\tremaining: 52.8s\n"
     ]
    },
    {
     "name": "stderr",
     "output_type": "stream",
     "text": [
      "/tmp/ipykernel_5925/1907625131.py:17: RuntimeWarning: invalid value encountered in long_scalars\n",
      "  fpr = fp/(fp+tp)\n"
     ]
    },
    {
     "name": "stdout",
     "output_type": "stream",
     "text": [
      "\n",
      "4663067 0 136933 0\n",
      "<class 'numpy.int64'> <class 'numpy.int64'> <class 'numpy.int64'> <class 'numpy.int64'>\n"
     ]
    },
    {
     "name": "stderr",
     "output_type": "stream",
     "text": [
      "/tmp/ipykernel_5925/1907625131.py:17: RuntimeWarning: invalid value encountered in long_scalars\n",
      "  fpr = fp/(fp+tp)\n"
     ]
    },
    {
     "name": "stdout",
     "output_type": "stream",
     "text": [
      "\n",
      "1165953 0 34047 0\n",
      "<class 'numpy.int64'> <class 'numpy.int64'> <class 'numpy.int64'> <class 'numpy.int64'>\n",
      "25:\tlearn: nan\ttest: nan\tbest: -inf (-1)\ttotal: 54.7s\tremaining: 50.5s\n"
     ]
    },
    {
     "name": "stderr",
     "output_type": "stream",
     "text": [
      "/tmp/ipykernel_5925/1907625131.py:17: RuntimeWarning: invalid value encountered in long_scalars\n",
      "  fpr = fp/(fp+tp)\n"
     ]
    },
    {
     "name": "stdout",
     "output_type": "stream",
     "text": [
      "\n",
      "4663067 0 136933 0\n",
      "<class 'numpy.int64'> <class 'numpy.int64'> <class 'numpy.int64'> <class 'numpy.int64'>\n"
     ]
    },
    {
     "name": "stderr",
     "output_type": "stream",
     "text": [
      "/tmp/ipykernel_5925/1907625131.py:17: RuntimeWarning: invalid value encountered in long_scalars\n",
      "  fpr = fp/(fp+tp)\n"
     ]
    },
    {
     "name": "stdout",
     "output_type": "stream",
     "text": [
      "\n",
      "1165953 0 34047 0\n",
      "<class 'numpy.int64'> <class 'numpy.int64'> <class 'numpy.int64'> <class 'numpy.int64'>\n",
      "26:\tlearn: nan\ttest: nan\tbest: -inf (-1)\ttotal: 56.5s\tremaining: 48.1s\n"
     ]
    },
    {
     "name": "stderr",
     "output_type": "stream",
     "text": [
      "/tmp/ipykernel_5925/1907625131.py:17: RuntimeWarning: invalid value encountered in long_scalars\n",
      "  fpr = fp/(fp+tp)\n"
     ]
    },
    {
     "name": "stdout",
     "output_type": "stream",
     "text": [
      "\n",
      "4663067 0 136933 0\n",
      "<class 'numpy.int64'> <class 'numpy.int64'> <class 'numpy.int64'> <class 'numpy.int64'>\n"
     ]
    },
    {
     "name": "stderr",
     "output_type": "stream",
     "text": [
      "/tmp/ipykernel_5925/1907625131.py:17: RuntimeWarning: invalid value encountered in long_scalars\n",
      "  fpr = fp/(fp+tp)\n"
     ]
    },
    {
     "name": "stdout",
     "output_type": "stream",
     "text": [
      "\n",
      "1165953 0 34047 0\n",
      "<class 'numpy.int64'> <class 'numpy.int64'> <class 'numpy.int64'> <class 'numpy.int64'>\n",
      "27:\tlearn: nan\ttest: nan\tbest: -inf (-1)\ttotal: 58.5s\tremaining: 45.9s\n"
     ]
    },
    {
     "name": "stderr",
     "output_type": "stream",
     "text": [
      "/tmp/ipykernel_5925/1907625131.py:17: RuntimeWarning: invalid value encountered in long_scalars\n",
      "  fpr = fp/(fp+tp)\n"
     ]
    },
    {
     "name": "stdout",
     "output_type": "stream",
     "text": [
      "\n",
      "4663067 0 136933 0\n",
      "<class 'numpy.int64'> <class 'numpy.int64'> <class 'numpy.int64'> <class 'numpy.int64'>\n"
     ]
    },
    {
     "name": "stderr",
     "output_type": "stream",
     "text": [
      "/tmp/ipykernel_5925/1907625131.py:17: RuntimeWarning: invalid value encountered in long_scalars\n",
      "  fpr = fp/(fp+tp)\n"
     ]
    },
    {
     "name": "stdout",
     "output_type": "stream",
     "text": [
      "\n",
      "1165953 0 34047 0\n",
      "<class 'numpy.int64'> <class 'numpy.int64'> <class 'numpy.int64'> <class 'numpy.int64'>\n",
      "28:\tlearn: nan\ttest: nan\tbest: -inf (-1)\ttotal: 1m\tremaining: 43.7s\n"
     ]
    },
    {
     "name": "stderr",
     "output_type": "stream",
     "text": [
      "/tmp/ipykernel_5925/1907625131.py:17: RuntimeWarning: invalid value encountered in long_scalars\n",
      "  fpr = fp/(fp+tp)\n"
     ]
    },
    {
     "name": "stdout",
     "output_type": "stream",
     "text": [
      "\n",
      "4663067 0 136933 0\n",
      "<class 'numpy.int64'> <class 'numpy.int64'> <class 'numpy.int64'> <class 'numpy.int64'>\n"
     ]
    },
    {
     "name": "stderr",
     "output_type": "stream",
     "text": [
      "/tmp/ipykernel_5925/1907625131.py:17: RuntimeWarning: invalid value encountered in long_scalars\n",
      "  fpr = fp/(fp+tp)\n"
     ]
    },
    {
     "name": "stdout",
     "output_type": "stream",
     "text": [
      "\n",
      "1165953 0 34047 0\n",
      "<class 'numpy.int64'> <class 'numpy.int64'> <class 'numpy.int64'> <class 'numpy.int64'>\n",
      "29:\tlearn: nan\ttest: nan\tbest: -inf (-1)\ttotal: 1m 2s\tremaining: 41.5s\n"
     ]
    },
    {
     "name": "stderr",
     "output_type": "stream",
     "text": [
      "/tmp/ipykernel_5925/1907625131.py:17: RuntimeWarning: invalid value encountered in long_scalars\n",
      "  fpr = fp/(fp+tp)\n"
     ]
    },
    {
     "name": "stdout",
     "output_type": "stream",
     "text": [
      "\n",
      "4663067 0 136933 0\n",
      "<class 'numpy.int64'> <class 'numpy.int64'> <class 'numpy.int64'> <class 'numpy.int64'>\n"
     ]
    },
    {
     "name": "stderr",
     "output_type": "stream",
     "text": [
      "/tmp/ipykernel_5925/1907625131.py:17: RuntimeWarning: invalid value encountered in long_scalars\n",
      "  fpr = fp/(fp+tp)\n"
     ]
    },
    {
     "name": "stdout",
     "output_type": "stream",
     "text": [
      "\n",
      "1165953 0 34047 0\n",
      "<class 'numpy.int64'> <class 'numpy.int64'> <class 'numpy.int64'> <class 'numpy.int64'>\n",
      "30:\tlearn: nan\ttest: nan\tbest: -inf (-1)\ttotal: 1m 4s\tremaining: 39.4s\n"
     ]
    },
    {
     "name": "stderr",
     "output_type": "stream",
     "text": [
      "/tmp/ipykernel_5925/1907625131.py:17: RuntimeWarning: invalid value encountered in long_scalars\n",
      "  fpr = fp/(fp+tp)\n"
     ]
    },
    {
     "name": "stdout",
     "output_type": "stream",
     "text": [
      "\n",
      "4663067 0 136933 0\n",
      "<class 'numpy.int64'> <class 'numpy.int64'> <class 'numpy.int64'> <class 'numpy.int64'>\n"
     ]
    },
    {
     "name": "stderr",
     "output_type": "stream",
     "text": [
      "/tmp/ipykernel_5925/1907625131.py:17: RuntimeWarning: invalid value encountered in long_scalars\n",
      "  fpr = fp/(fp+tp)\n"
     ]
    },
    {
     "name": "stdout",
     "output_type": "stream",
     "text": [
      "\n",
      "1165953 0 34047 0\n",
      "<class 'numpy.int64'> <class 'numpy.int64'> <class 'numpy.int64'> <class 'numpy.int64'>\n",
      "31:\tlearn: nan\ttest: nan\tbest: -inf (-1)\ttotal: 1m 6s\tremaining: 37.2s\n"
     ]
    },
    {
     "name": "stderr",
     "output_type": "stream",
     "text": [
      "/tmp/ipykernel_5925/1907625131.py:17: RuntimeWarning: invalid value encountered in long_scalars\n",
      "  fpr = fp/(fp+tp)\n"
     ]
    },
    {
     "name": "stdout",
     "output_type": "stream",
     "text": [
      "\n",
      "4663067 0 136933 0\n",
      "<class 'numpy.int64'> <class 'numpy.int64'> <class 'numpy.int64'> <class 'numpy.int64'>\n"
     ]
    },
    {
     "name": "stderr",
     "output_type": "stream",
     "text": [
      "/tmp/ipykernel_5925/1907625131.py:17: RuntimeWarning: invalid value encountered in long_scalars\n",
      "  fpr = fp/(fp+tp)\n"
     ]
    },
    {
     "name": "stdout",
     "output_type": "stream",
     "text": [
      "\n",
      "1165953 0 34047 0\n",
      "<class 'numpy.int64'> <class 'numpy.int64'> <class 'numpy.int64'> <class 'numpy.int64'>\n",
      "32:\tlearn: nan\ttest: nan\tbest: -inf (-1)\ttotal: 1m 7s\tremaining: 35s\n"
     ]
    },
    {
     "name": "stderr",
     "output_type": "stream",
     "text": [
      "/tmp/ipykernel_5925/1907625131.py:17: RuntimeWarning: invalid value encountered in long_scalars\n",
      "  fpr = fp/(fp+tp)\n"
     ]
    },
    {
     "name": "stdout",
     "output_type": "stream",
     "text": [
      "\n",
      "4663067 0 136933 0\n",
      "<class 'numpy.int64'> <class 'numpy.int64'> <class 'numpy.int64'> <class 'numpy.int64'>\n"
     ]
    },
    {
     "name": "stderr",
     "output_type": "stream",
     "text": [
      "/tmp/ipykernel_5925/1907625131.py:17: RuntimeWarning: invalid value encountered in long_scalars\n",
      "  fpr = fp/(fp+tp)\n"
     ]
    },
    {
     "name": "stdout",
     "output_type": "stream",
     "text": [
      "\n",
      "1165953 0 34047 0\n",
      "<class 'numpy.int64'> <class 'numpy.int64'> <class 'numpy.int64'> <class 'numpy.int64'>\n",
      "33:\tlearn: nan\ttest: nan\tbest: -inf (-1)\ttotal: 1m 9s\tremaining: 32.9s\n"
     ]
    },
    {
     "name": "stderr",
     "output_type": "stream",
     "text": [
      "/tmp/ipykernel_5925/1907625131.py:17: RuntimeWarning: invalid value encountered in long_scalars\n",
      "  fpr = fp/(fp+tp)\n"
     ]
    },
    {
     "name": "stdout",
     "output_type": "stream",
     "text": [
      "\n",
      "4663067 0 136933 0\n",
      "<class 'numpy.int64'> <class 'numpy.int64'> <class 'numpy.int64'> <class 'numpy.int64'>\n"
     ]
    },
    {
     "name": "stderr",
     "output_type": "stream",
     "text": [
      "/tmp/ipykernel_5925/1907625131.py:17: RuntimeWarning: invalid value encountered in long_scalars\n",
      "  fpr = fp/(fp+tp)\n"
     ]
    },
    {
     "name": "stdout",
     "output_type": "stream",
     "text": [
      "\n",
      "1165953 0 34047 0\n",
      "<class 'numpy.int64'> <class 'numpy.int64'> <class 'numpy.int64'> <class 'numpy.int64'>\n",
      "34:\tlearn: nan\ttest: nan\tbest: -inf (-1)\ttotal: 1m 11s\tremaining: 30.8s\n"
     ]
    },
    {
     "name": "stderr",
     "output_type": "stream",
     "text": [
      "/tmp/ipykernel_5925/1907625131.py:17: RuntimeWarning: invalid value encountered in long_scalars\n",
      "  fpr = fp/(fp+tp)\n"
     ]
    },
    {
     "name": "stdout",
     "output_type": "stream",
     "text": [
      "\n",
      "4663067 0 136933 0\n",
      "<class 'numpy.int64'> <class 'numpy.int64'> <class 'numpy.int64'> <class 'numpy.int64'>\n"
     ]
    },
    {
     "name": "stderr",
     "output_type": "stream",
     "text": [
      "/tmp/ipykernel_5925/1907625131.py:17: RuntimeWarning: invalid value encountered in long_scalars\n",
      "  fpr = fp/(fp+tp)\n"
     ]
    },
    {
     "name": "stdout",
     "output_type": "stream",
     "text": [
      "\n",
      "1165953 0 34047 0\n",
      "<class 'numpy.int64'> <class 'numpy.int64'> <class 'numpy.int64'> <class 'numpy.int64'>\n",
      "35:\tlearn: nan\ttest: nan\tbest: -inf (-1)\ttotal: 1m 13s\tremaining: 28.6s\n"
     ]
    },
    {
     "name": "stderr",
     "output_type": "stream",
     "text": [
      "/tmp/ipykernel_5925/1907625131.py:17: RuntimeWarning: invalid value encountered in long_scalars\n",
      "  fpr = fp/(fp+tp)\n"
     ]
    },
    {
     "name": "stdout",
     "output_type": "stream",
     "text": [
      "\n",
      "4663067 0 136933 0\n",
      "<class 'numpy.int64'> <class 'numpy.int64'> <class 'numpy.int64'> <class 'numpy.int64'>\n"
     ]
    },
    {
     "name": "stderr",
     "output_type": "stream",
     "text": [
      "/tmp/ipykernel_5925/1907625131.py:17: RuntimeWarning: invalid value encountered in long_scalars\n",
      "  fpr = fp/(fp+tp)\n"
     ]
    },
    {
     "name": "stdout",
     "output_type": "stream",
     "text": [
      "\n",
      "1165953 0 34047 0\n",
      "<class 'numpy.int64'> <class 'numpy.int64'> <class 'numpy.int64'> <class 'numpy.int64'>\n",
      "36:\tlearn: nan\ttest: nan\tbest: -inf (-1)\ttotal: 1m 15s\tremaining: 26.5s\n"
     ]
    },
    {
     "name": "stderr",
     "output_type": "stream",
     "text": [
      "/tmp/ipykernel_5925/1907625131.py:17: RuntimeWarning: invalid value encountered in long_scalars\n",
      "  fpr = fp/(fp+tp)\n"
     ]
    },
    {
     "name": "stdout",
     "output_type": "stream",
     "text": [
      "\n",
      "4663067 0 136933 0\n",
      "<class 'numpy.int64'> <class 'numpy.int64'> <class 'numpy.int64'> <class 'numpy.int64'>\n"
     ]
    },
    {
     "name": "stderr",
     "output_type": "stream",
     "text": [
      "/tmp/ipykernel_5925/1907625131.py:17: RuntimeWarning: invalid value encountered in long_scalars\n",
      "  fpr = fp/(fp+tp)\n"
     ]
    },
    {
     "name": "stdout",
     "output_type": "stream",
     "text": [
      "\n",
      "1165953 0 34047 0\n",
      "<class 'numpy.int64'> <class 'numpy.int64'> <class 'numpy.int64'> <class 'numpy.int64'>\n",
      "37:\tlearn: nan\ttest: nan\tbest: -inf (-1)\ttotal: 1m 17s\tremaining: 24.4s\n"
     ]
    },
    {
     "name": "stderr",
     "output_type": "stream",
     "text": [
      "/tmp/ipykernel_5925/1907625131.py:17: RuntimeWarning: invalid value encountered in long_scalars\n",
      "  fpr = fp/(fp+tp)\n"
     ]
    },
    {
     "name": "stdout",
     "output_type": "stream",
     "text": [
      "\n",
      "4663067 0 136933 0\n",
      "<class 'numpy.int64'> <class 'numpy.int64'> <class 'numpy.int64'> <class 'numpy.int64'>\n"
     ]
    },
    {
     "name": "stderr",
     "output_type": "stream",
     "text": [
      "/tmp/ipykernel_5925/1907625131.py:17: RuntimeWarning: invalid value encountered in long_scalars\n",
      "  fpr = fp/(fp+tp)\n"
     ]
    },
    {
     "name": "stdout",
     "output_type": "stream",
     "text": [
      "\n",
      "1165953 0 34047 0\n",
      "<class 'numpy.int64'> <class 'numpy.int64'> <class 'numpy.int64'> <class 'numpy.int64'>\n",
      "38:\tlearn: nan\ttest: nan\tbest: -inf (-1)\ttotal: 1m 19s\tremaining: 22.3s\n"
     ]
    },
    {
     "name": "stderr",
     "output_type": "stream",
     "text": [
      "/tmp/ipykernel_5925/1907625131.py:17: RuntimeWarning: invalid value encountered in long_scalars\n",
      "  fpr = fp/(fp+tp)\n"
     ]
    },
    {
     "name": "stdout",
     "output_type": "stream",
     "text": [
      "\n",
      "4663067 0 136933 0\n",
      "<class 'numpy.int64'> <class 'numpy.int64'> <class 'numpy.int64'> <class 'numpy.int64'>\n"
     ]
    },
    {
     "name": "stderr",
     "output_type": "stream",
     "text": [
      "/tmp/ipykernel_5925/1907625131.py:17: RuntimeWarning: invalid value encountered in long_scalars\n",
      "  fpr = fp/(fp+tp)\n"
     ]
    },
    {
     "name": "stdout",
     "output_type": "stream",
     "text": [
      "\n",
      "1165953 0 34047 0\n",
      "<class 'numpy.int64'> <class 'numpy.int64'> <class 'numpy.int64'> <class 'numpy.int64'>\n",
      "39:\tlearn: nan\ttest: nan\tbest: -inf (-1)\ttotal: 1m 20s\tremaining: 20.2s\n"
     ]
    },
    {
     "name": "stderr",
     "output_type": "stream",
     "text": [
      "/tmp/ipykernel_5925/1907625131.py:17: RuntimeWarning: invalid value encountered in long_scalars\n",
      "  fpr = fp/(fp+tp)\n"
     ]
    },
    {
     "name": "stdout",
     "output_type": "stream",
     "text": [
      "\n",
      "4663067 0 136933 0\n",
      "<class 'numpy.int64'> <class 'numpy.int64'> <class 'numpy.int64'> <class 'numpy.int64'>\n"
     ]
    },
    {
     "name": "stderr",
     "output_type": "stream",
     "text": [
      "/tmp/ipykernel_5925/1907625131.py:17: RuntimeWarning: invalid value encountered in long_scalars\n",
      "  fpr = fp/(fp+tp)\n"
     ]
    },
    {
     "name": "stdout",
     "output_type": "stream",
     "text": [
      "\n",
      "1165953 0 34047 0\n",
      "<class 'numpy.int64'> <class 'numpy.int64'> <class 'numpy.int64'> <class 'numpy.int64'>\n",
      "40:\tlearn: nan\ttest: nan\tbest: -inf (-1)\ttotal: 1m 22s\tremaining: 18.2s\n"
     ]
    },
    {
     "name": "stderr",
     "output_type": "stream",
     "text": [
      "/tmp/ipykernel_5925/1907625131.py:17: RuntimeWarning: invalid value encountered in long_scalars\n",
      "  fpr = fp/(fp+tp)\n"
     ]
    },
    {
     "name": "stdout",
     "output_type": "stream",
     "text": [
      "\n",
      "4663067 0 136933 0\n",
      "<class 'numpy.int64'> <class 'numpy.int64'> <class 'numpy.int64'> <class 'numpy.int64'>\n"
     ]
    },
    {
     "name": "stderr",
     "output_type": "stream",
     "text": [
      "/tmp/ipykernel_5925/1907625131.py:17: RuntimeWarning: invalid value encountered in long_scalars\n",
      "  fpr = fp/(fp+tp)\n"
     ]
    },
    {
     "name": "stdout",
     "output_type": "stream",
     "text": [
      "\n",
      "1165953 0 34047 0\n",
      "<class 'numpy.int64'> <class 'numpy.int64'> <class 'numpy.int64'> <class 'numpy.int64'>\n",
      "41:\tlearn: nan\ttest: nan\tbest: -inf (-1)\ttotal: 1m 24s\tremaining: 16.1s\n"
     ]
    },
    {
     "name": "stderr",
     "output_type": "stream",
     "text": [
      "/tmp/ipykernel_5925/1907625131.py:17: RuntimeWarning: invalid value encountered in long_scalars\n",
      "  fpr = fp/(fp+tp)\n"
     ]
    },
    {
     "name": "stdout",
     "output_type": "stream",
     "text": [
      "\n",
      "4663067 0 136933 0\n",
      "<class 'numpy.int64'> <class 'numpy.int64'> <class 'numpy.int64'> <class 'numpy.int64'>\n"
     ]
    },
    {
     "name": "stderr",
     "output_type": "stream",
     "text": [
      "/tmp/ipykernel_5925/1907625131.py:17: RuntimeWarning: invalid value encountered in long_scalars\n",
      "  fpr = fp/(fp+tp)\n"
     ]
    },
    {
     "name": "stdout",
     "output_type": "stream",
     "text": [
      "\n",
      "1165953 0 34047 0\n",
      "<class 'numpy.int64'> <class 'numpy.int64'> <class 'numpy.int64'> <class 'numpy.int64'>\n",
      "42:\tlearn: nan\ttest: nan\tbest: -inf (-1)\ttotal: 1m 26s\tremaining: 14.1s\n"
     ]
    },
    {
     "name": "stderr",
     "output_type": "stream",
     "text": [
      "/tmp/ipykernel_5925/1907625131.py:17: RuntimeWarning: invalid value encountered in long_scalars\n",
      "  fpr = fp/(fp+tp)\n"
     ]
    },
    {
     "name": "stdout",
     "output_type": "stream",
     "text": [
      "\n",
      "4663067 0 136933 0\n",
      "<class 'numpy.int64'> <class 'numpy.int64'> <class 'numpy.int64'> <class 'numpy.int64'>\n"
     ]
    },
    {
     "name": "stderr",
     "output_type": "stream",
     "text": [
      "/tmp/ipykernel_5925/1907625131.py:17: RuntimeWarning: invalid value encountered in long_scalars\n",
      "  fpr = fp/(fp+tp)\n"
     ]
    },
    {
     "name": "stdout",
     "output_type": "stream",
     "text": [
      "\n",
      "1165953 0 34047 0\n",
      "<class 'numpy.int64'> <class 'numpy.int64'> <class 'numpy.int64'> <class 'numpy.int64'>\n",
      "43:\tlearn: nan\ttest: nan\tbest: -inf (-1)\ttotal: 1m 28s\tremaining: 12.1s\n"
     ]
    },
    {
     "name": "stderr",
     "output_type": "stream",
     "text": [
      "/tmp/ipykernel_5925/1907625131.py:17: RuntimeWarning: invalid value encountered in long_scalars\n",
      "  fpr = fp/(fp+tp)\n"
     ]
    },
    {
     "name": "stdout",
     "output_type": "stream",
     "text": [
      "\n",
      "4663067 0 136933 0\n",
      "<class 'numpy.int64'> <class 'numpy.int64'> <class 'numpy.int64'> <class 'numpy.int64'>\n"
     ]
    },
    {
     "name": "stderr",
     "output_type": "stream",
     "text": [
      "/tmp/ipykernel_5925/1907625131.py:17: RuntimeWarning: invalid value encountered in long_scalars\n",
      "  fpr = fp/(fp+tp)\n"
     ]
    },
    {
     "name": "stdout",
     "output_type": "stream",
     "text": [
      "\n",
      "1165953 0 34047 0\n",
      "<class 'numpy.int64'> <class 'numpy.int64'> <class 'numpy.int64'> <class 'numpy.int64'>\n",
      "44:\tlearn: nan\ttest: nan\tbest: -inf (-1)\ttotal: 1m 30s\tremaining: 10s\n"
     ]
    },
    {
     "name": "stderr",
     "output_type": "stream",
     "text": [
      "/tmp/ipykernel_5925/1907625131.py:17: RuntimeWarning: invalid value encountered in long_scalars\n",
      "  fpr = fp/(fp+tp)\n"
     ]
    },
    {
     "name": "stdout",
     "output_type": "stream",
     "text": [
      "\n",
      "4663067 0 136933 0\n",
      "<class 'numpy.int64'> <class 'numpy.int64'> <class 'numpy.int64'> <class 'numpy.int64'>\n"
     ]
    },
    {
     "name": "stderr",
     "output_type": "stream",
     "text": [
      "/tmp/ipykernel_5925/1907625131.py:17: RuntimeWarning: invalid value encountered in long_scalars\n",
      "  fpr = fp/(fp+tp)\n"
     ]
    },
    {
     "name": "stdout",
     "output_type": "stream",
     "text": [
      "\n",
      "1165953 0 34047 0\n",
      "<class 'numpy.int64'> <class 'numpy.int64'> <class 'numpy.int64'> <class 'numpy.int64'>\n",
      "45:\tlearn: nan\ttest: nan\tbest: -inf (-1)\ttotal: 1m 32s\tremaining: 8.04s\n"
     ]
    },
    {
     "name": "stderr",
     "output_type": "stream",
     "text": [
      "/tmp/ipykernel_5925/1907625131.py:17: RuntimeWarning: invalid value encountered in long_scalars\n",
      "  fpr = fp/(fp+tp)\n"
     ]
    },
    {
     "name": "stdout",
     "output_type": "stream",
     "text": [
      "\n",
      "4663067 0 136933 0\n",
      "<class 'numpy.int64'> <class 'numpy.int64'> <class 'numpy.int64'> <class 'numpy.int64'>\n"
     ]
    },
    {
     "name": "stderr",
     "output_type": "stream",
     "text": [
      "/tmp/ipykernel_5925/1907625131.py:17: RuntimeWarning: invalid value encountered in long_scalars\n",
      "  fpr = fp/(fp+tp)\n"
     ]
    },
    {
     "name": "stdout",
     "output_type": "stream",
     "text": [
      "\n",
      "1165953 0 34047 0\n",
      "<class 'numpy.int64'> <class 'numpy.int64'> <class 'numpy.int64'> <class 'numpy.int64'>\n",
      "46:\tlearn: nan\ttest: nan\tbest: -inf (-1)\ttotal: 1m 34s\tremaining: 6.02s\n"
     ]
    },
    {
     "name": "stderr",
     "output_type": "stream",
     "text": [
      "/tmp/ipykernel_5925/1907625131.py:17: RuntimeWarning: invalid value encountered in long_scalars\n",
      "  fpr = fp/(fp+tp)\n"
     ]
    },
    {
     "name": "stdout",
     "output_type": "stream",
     "text": [
      "\n",
      "4663067 0 136933 0\n",
      "<class 'numpy.int64'> <class 'numpy.int64'> <class 'numpy.int64'> <class 'numpy.int64'>\n"
     ]
    },
    {
     "name": "stderr",
     "output_type": "stream",
     "text": [
      "/tmp/ipykernel_5925/1907625131.py:17: RuntimeWarning: invalid value encountered in long_scalars\n",
      "  fpr = fp/(fp+tp)\n"
     ]
    },
    {
     "name": "stdout",
     "output_type": "stream",
     "text": [
      "\n",
      "1165953 0 34047 0\n",
      "<class 'numpy.int64'> <class 'numpy.int64'> <class 'numpy.int64'> <class 'numpy.int64'>\n",
      "47:\tlearn: nan\ttest: nan\tbest: -inf (-1)\ttotal: 1m 36s\tremaining: 4.01s\n"
     ]
    },
    {
     "name": "stderr",
     "output_type": "stream",
     "text": [
      "/tmp/ipykernel_5925/1907625131.py:17: RuntimeWarning: invalid value encountered in long_scalars\n",
      "  fpr = fp/(fp+tp)\n"
     ]
    },
    {
     "name": "stdout",
     "output_type": "stream",
     "text": [
      "\n",
      "4663067 0 136933 0\n",
      "<class 'numpy.int64'> <class 'numpy.int64'> <class 'numpy.int64'> <class 'numpy.int64'>\n"
     ]
    },
    {
     "name": "stderr",
     "output_type": "stream",
     "text": [
      "/tmp/ipykernel_5925/1907625131.py:17: RuntimeWarning: invalid value encountered in long_scalars\n",
      "  fpr = fp/(fp+tp)\n"
     ]
    },
    {
     "name": "stdout",
     "output_type": "stream",
     "text": [
      "\n",
      "1165953 0 34047 0\n",
      "<class 'numpy.int64'> <class 'numpy.int64'> <class 'numpy.int64'> <class 'numpy.int64'>\n",
      "48:\tlearn: nan\ttest: nan\tbest: -inf (-1)\ttotal: 1m 38s\tremaining: 2.01s\n"
     ]
    },
    {
     "name": "stderr",
     "output_type": "stream",
     "text": [
      "/tmp/ipykernel_5925/1907625131.py:17: RuntimeWarning: invalid value encountered in long_scalars\n",
      "  fpr = fp/(fp+tp)\n"
     ]
    },
    {
     "name": "stdout",
     "output_type": "stream",
     "text": [
      "\n",
      "4663067 0 136933 0\n",
      "<class 'numpy.int64'> <class 'numpy.int64'> <class 'numpy.int64'> <class 'numpy.int64'>\n"
     ]
    },
    {
     "name": "stderr",
     "output_type": "stream",
     "text": [
      "/tmp/ipykernel_5925/1907625131.py:17: RuntimeWarning: invalid value encountered in long_scalars\n",
      "  fpr = fp/(fp+tp)\n"
     ]
    },
    {
     "name": "stdout",
     "output_type": "stream",
     "text": [
      "\n",
      "1165953 0 34047 0\n",
      "<class 'numpy.int64'> <class 'numpy.int64'> <class 'numpy.int64'> <class 'numpy.int64'>\n",
      "49:\tlearn: nan\ttest: nan\tbest: -inf (-1)\ttotal: 1m 40s\tremaining: 0us\n",
      "\n",
      "bestTest = -inf\n",
      "bestIteration = -1\n",
      "\n"
     ]
    },
    {
     "name": "stderr",
     "output_type": "stream",
     "text": [
      "/tmp/ipykernel_5925/1907625131.py:17: RuntimeWarning: invalid value encountered in long_scalars\n",
      "  fpr = fp/(fp+tp)\n"
     ]
    },
    {
     "data": {
      "text/plain": [
       "<catboost.core.CatBoostClassifier at 0x7fbc0c559ac0>"
      ]
     },
     "execution_count": 85,
     "metadata": {},
     "output_type": "execute_result"
    }
   ],
   "source": [
    "clf = CatBoostClassifier(\n",
    "    iterations=ITERATIONS,\n",
    "    random_seed=RANDOM_SEED,\n",
    "    learning_rate=LEARNING_RATE,\n",
    "    snapshot_file=SNAPSHOT_FILE,\n",
    "    train_dir=LOG_DIR,\n",
    "    eval_metric=FinalMetric(),\n",
    "    custom_loss=['AUC', 'Recall', 'Precision', 'Accuracy']\n",
    ")\n",
    "\n",
    "clf.fit(\n",
    "    X_train, y_train,\n",
    "    cat_features=cat_features,\n",
    "    eval_set=(X_val, y_val),\n",
    "    verbose=True,\n",
    ")"
   ]
  },
  {
   "cell_type": "code",
   "execution_count": 50,
   "metadata": {},
   "outputs": [],
   "source": [
    "best_score = clf.get_best_score()\n",
    "logs = clf.get_evals_result()"
   ]
  },
  {
   "cell_type": "code",
   "execution_count": 51,
   "metadata": {},
   "outputs": [],
   "source": [
    "with open(f'{LOG_DIR}/catboost_training.json') as f:\n",
    "    catboost_training = json.load(f)"
   ]
  },
  {
   "cell_type": "code",
   "execution_count": 52,
   "metadata": {},
   "outputs": [],
   "source": [
    "test_metric = [metric[\"name\"] for metric in catboost_training[\"meta\"][\"test_metrics\"]]\n",
    "train_metric = [metric[\"name\"] for metric in catboost_training[\"meta\"][\"learn_metrics\"]]"
   ]
  },
  {
   "cell_type": "code",
   "execution_count": 53,
   "metadata": {},
   "outputs": [],
   "source": [
    "for i, iteration in enumerate(catboost_training[\"iterations\"]):\n",
    "    log = dict()\n",
    "    log[\"Epoch\"] = i + 1\n",
    "    for name, value in zip(train_metric, iteration[\"learn\"]):\n",
    "        log[f\"Learn_{name}\"] = value\n",
    "    for name, value in zip(test_metric, iteration[\"test\"]):\n",
    "        log[f\"Test_{name}\"] = value\n",
    "    log[\"Test_Result\"] = 0.1*log[\"Test_Recall\"]+0.9*log[\"Test_AUC\"]\n",
    "    mlflow.log_metrics(log)"
   ]
  },
  {
   "cell_type": "code",
   "execution_count": 54,
   "metadata": {},
   "outputs": [
    {
     "data": {
      "text/plain": [
       "<mlflow.models.model.ModelInfo at 0x7fbc1953e4c0>"
      ]
     },
     "execution_count": 54,
     "metadata": {},
     "output_type": "execute_result"
    }
   ],
   "source": [
    "mlflow.catboost.save_model(clf, MODELS_PATH)\n",
    "mlflow.catboost.log_model(clf, MODELS_PATH)"
   ]
  },
  {
   "cell_type": "markdown",
   "metadata": {},
   "source": [
    "## Predict"
   ]
  },
  {
   "cell_type": "code",
   "execution_count": 55,
   "metadata": {},
   "outputs": [],
   "source": [
    "test_dataset = \"data/test_dataset_test.csv\"\n",
    "\n",
    "test_df = pd.read_csv(test_dataset, low_memory=False)"
   ]
  },
  {
   "cell_type": "code",
   "execution_count": 56,
   "metadata": {},
   "outputs": [],
   "source": [
    "test_df = preproc.preprocess(test_df, dtype=\"test\")"
   ]
  },
  {
   "cell_type": "code",
   "execution_count": 57,
   "metadata": {},
   "outputs": [
    {
     "data": {
      "text/html": [
       "<div>\n",
       "<style scoped>\n",
       "    .dataframe tbody tr th:only-of-type {\n",
       "        vertical-align: middle;\n",
       "    }\n",
       "\n",
       "    .dataframe tbody tr th {\n",
       "        vertical-align: top;\n",
       "    }\n",
       "\n",
       "    .dataframe thead th {\n",
       "        text-align: right;\n",
       "    }\n",
       "</style>\n",
       "<table border=\"1\" class=\"dataframe\">\n",
       "  <thead>\n",
       "    <tr style=\"text-align: right;\">\n",
       "      <th></th>\n",
       "      <th>id</th>\n",
       "      <th>type</th>\n",
       "      <th>priority</th>\n",
       "      <th>class</th>\n",
       "      <th>is_return</th>\n",
       "      <th>weight</th>\n",
       "      <th>mailtype</th>\n",
       "      <th>mailctg</th>\n",
       "      <th>directctg</th>\n",
       "      <th>transport_pay</th>\n",
       "      <th>postmark</th>\n",
       "      <th>weight_mfi</th>\n",
       "      <th>price_mfi</th>\n",
       "      <th>total_qty_over_index</th>\n",
       "      <th>is_wrong_sndr_name</th>\n",
       "      <th>is_wrong_rcpn_name</th>\n",
       "      <th>is_wrong_phone_number</th>\n",
       "      <th>is_wrong_address</th>\n",
       "      <th>oper_type</th>\n",
       "      <th>oper_attr</th>\n",
       "    </tr>\n",
       "  </thead>\n",
       "  <tbody>\n",
       "    <tr>\n",
       "      <th>0</th>\n",
       "      <td>7815282</td>\n",
       "      <td>4</td>\n",
       "      <td>7503</td>\n",
       "      <td>0</td>\n",
       "      <td>1</td>\n",
       "      <td>0.000538</td>\n",
       "      <td>5</td>\n",
       "      <td>1</td>\n",
       "      <td>2</td>\n",
       "      <td>0.000000</td>\n",
       "      <td>0</td>\n",
       "      <td>0.004056</td>\n",
       "      <td>0.003062</td>\n",
       "      <td>0.329689</td>\n",
       "      <td>0</td>\n",
       "      <td>0</td>\n",
       "      <td>0</td>\n",
       "      <td>0</td>\n",
       "      <td>8</td>\n",
       "      <td>13</td>\n",
       "    </tr>\n",
       "    <tr>\n",
       "      <th>1</th>\n",
       "      <td>8443555</td>\n",
       "      <td>3</td>\n",
       "      <td>7503</td>\n",
       "      <td>4</td>\n",
       "      <td>1</td>\n",
       "      <td>0.000133</td>\n",
       "      <td>5</td>\n",
       "      <td>0</td>\n",
       "      <td>2</td>\n",
       "      <td>0.000000</td>\n",
       "      <td>0</td>\n",
       "      <td>0.001056</td>\n",
       "      <td>0.001165</td>\n",
       "      <td>0.000041</td>\n",
       "      <td>0</td>\n",
       "      <td>1</td>\n",
       "      <td>1</td>\n",
       "      <td>0</td>\n",
       "      <td>8</td>\n",
       "      <td>2</td>\n",
       "    </tr>\n",
       "    <tr>\n",
       "      <th>2</th>\n",
       "      <td>6352559</td>\n",
       "      <td>3</td>\n",
       "      <td>7503</td>\n",
       "      <td>4</td>\n",
       "      <td>1</td>\n",
       "      <td>0.002456</td>\n",
       "      <td>5</td>\n",
       "      <td>1</td>\n",
       "      <td>2</td>\n",
       "      <td>0.040951</td>\n",
       "      <td>0</td>\n",
       "      <td>0.019333</td>\n",
       "      <td>0.003131</td>\n",
       "      <td>0.000076</td>\n",
       "      <td>0</td>\n",
       "      <td>0</td>\n",
       "      <td>0</td>\n",
       "      <td>0</td>\n",
       "      <td>1020</td>\n",
       "      <td>-1</td>\n",
       "    </tr>\n",
       "    <tr>\n",
       "      <th>3</th>\n",
       "      <td>4921420</td>\n",
       "      <td>15</td>\n",
       "      <td>7503</td>\n",
       "      <td>0</td>\n",
       "      <td>1</td>\n",
       "      <td>0.007614</td>\n",
       "      <td>5</td>\n",
       "      <td>1</td>\n",
       "      <td>2</td>\n",
       "      <td>0.100807</td>\n",
       "      <td>0</td>\n",
       "      <td>0.000000</td>\n",
       "      <td>0.000000</td>\n",
       "      <td>0.023507</td>\n",
       "      <td>0</td>\n",
       "      <td>1</td>\n",
       "      <td>0</td>\n",
       "      <td>0</td>\n",
       "      <td>1016</td>\n",
       "      <td>-1</td>\n",
       "    </tr>\n",
       "    <tr>\n",
       "      <th>4</th>\n",
       "      <td>1420440</td>\n",
       "      <td>19</td>\n",
       "      <td>7506</td>\n",
       "      <td>0</td>\n",
       "      <td>1</td>\n",
       "      <td>0.006051</td>\n",
       "      <td>5</td>\n",
       "      <td>1</td>\n",
       "      <td>2</td>\n",
       "      <td>0.018001</td>\n",
       "      <td>0</td>\n",
       "      <td>0.052556</td>\n",
       "      <td>0.007933</td>\n",
       "      <td>0.168136</td>\n",
       "      <td>0</td>\n",
       "      <td>1</td>\n",
       "      <td>0</td>\n",
       "      <td>0</td>\n",
       "      <td>1018</td>\n",
       "      <td>-1</td>\n",
       "    </tr>\n",
       "  </tbody>\n",
       "</table>\n",
       "</div>"
      ],
      "text/plain": [
       "        id  type  priority  class  is_return    weight  mailtype  mailctg  \\\n",
       "0  7815282     4      7503      0          1  0.000538         5        1   \n",
       "1  8443555     3      7503      4          1  0.000133         5        0   \n",
       "2  6352559     3      7503      4          1  0.002456         5        1   \n",
       "3  4921420    15      7503      0          1  0.007614         5        1   \n",
       "4  1420440    19      7506      0          1  0.006051         5        1   \n",
       "\n",
       "   directctg  transport_pay  postmark  weight_mfi  price_mfi  \\\n",
       "0          2       0.000000         0    0.004056   0.003062   \n",
       "1          2       0.000000         0    0.001056   0.001165   \n",
       "2          2       0.040951         0    0.019333   0.003131   \n",
       "3          2       0.100807         0    0.000000   0.000000   \n",
       "4          2       0.018001         0    0.052556   0.007933   \n",
       "\n",
       "   total_qty_over_index  is_wrong_sndr_name  is_wrong_rcpn_name  \\\n",
       "0              0.329689                   0                   0   \n",
       "1              0.000041                   0                   1   \n",
       "2              0.000076                   0                   0   \n",
       "3              0.023507                   0                   1   \n",
       "4              0.168136                   0                   1   \n",
       "\n",
       "   is_wrong_phone_number  is_wrong_address  oper_type  oper_attr  \n",
       "0                      0                 0          8         13  \n",
       "1                      1                 0          8          2  \n",
       "2                      0                 0       1020         -1  \n",
       "3                      0                 0       1016         -1  \n",
       "4                      0                 0       1018         -1  "
      ]
     },
     "execution_count": 57,
     "metadata": {},
     "output_type": "execute_result"
    }
   ],
   "source": [
    "test_df.head()"
   ]
  },
  {
   "cell_type": "code",
   "execution_count": 58,
   "metadata": {},
   "outputs": [],
   "source": [
    "cid = test_df[\"id\"]\n",
    "test_df = test_df.drop(\"id\", axis=1)"
   ]
  },
  {
   "cell_type": "code",
   "execution_count": 59,
   "metadata": {},
   "outputs": [
    {
     "name": "stdout",
     "output_type": "stream",
     "text": [
      "<class 'pandas.core.frame.DataFrame'>\n",
      "RangeIndex: 4000000 entries, 0 to 3999999\n",
      "Data columns (total 19 columns):\n",
      " #   Column                 Dtype  \n",
      "---  ------                 -----  \n",
      " 0   type                   int64  \n",
      " 1   priority               int64  \n",
      " 2   class                  int64  \n",
      " 3   is_return              int64  \n",
      " 4   weight                 float64\n",
      " 5   mailtype               int64  \n",
      " 6   mailctg                int64  \n",
      " 7   directctg              int64  \n",
      " 8   transport_pay          float64\n",
      " 9   postmark               int64  \n",
      " 10  weight_mfi             float64\n",
      " 11  price_mfi              float64\n",
      " 12  total_qty_over_index   float64\n",
      " 13  is_wrong_sndr_name     int64  \n",
      " 14  is_wrong_rcpn_name     int64  \n",
      " 15  is_wrong_phone_number  int64  \n",
      " 16  is_wrong_address       int64  \n",
      " 17  oper_type              int64  \n",
      " 18  oper_attr              int64  \n",
      "dtypes: float64(5), int64(14)\n",
      "memory usage: 579.8 MB\n"
     ]
    }
   ],
   "source": [
    "test_df.info()"
   ]
  },
  {
   "cell_type": "code",
   "execution_count": 60,
   "metadata": {},
   "outputs": [
    {
     "data": {
      "text/html": [
       "<div>\n",
       "<style scoped>\n",
       "    .dataframe tbody tr th:only-of-type {\n",
       "        vertical-align: middle;\n",
       "    }\n",
       "\n",
       "    .dataframe tbody tr th {\n",
       "        vertical-align: top;\n",
       "    }\n",
       "\n",
       "    .dataframe thead th {\n",
       "        text-align: right;\n",
       "    }\n",
       "</style>\n",
       "<table border=\"1\" class=\"dataframe\">\n",
       "  <thead>\n",
       "    <tr style=\"text-align: right;\">\n",
       "      <th></th>\n",
       "      <th>type</th>\n",
       "      <th>priority</th>\n",
       "      <th>class</th>\n",
       "      <th>is_return</th>\n",
       "      <th>weight</th>\n",
       "      <th>mailtype</th>\n",
       "      <th>mailctg</th>\n",
       "      <th>directctg</th>\n",
       "      <th>transport_pay</th>\n",
       "      <th>postmark</th>\n",
       "      <th>weight_mfi</th>\n",
       "      <th>price_mfi</th>\n",
       "      <th>total_qty_over_index</th>\n",
       "      <th>is_wrong_sndr_name</th>\n",
       "      <th>is_wrong_rcpn_name</th>\n",
       "      <th>is_wrong_phone_number</th>\n",
       "      <th>is_wrong_address</th>\n",
       "      <th>oper_type</th>\n",
       "      <th>oper_attr</th>\n",
       "    </tr>\n",
       "  </thead>\n",
       "  <tbody>\n",
       "    <tr>\n",
       "      <th>0</th>\n",
       "      <td>4</td>\n",
       "      <td>7503</td>\n",
       "      <td>0</td>\n",
       "      <td>1</td>\n",
       "      <td>0.000538</td>\n",
       "      <td>5</td>\n",
       "      <td>1</td>\n",
       "      <td>2</td>\n",
       "      <td>0.000000</td>\n",
       "      <td>0</td>\n",
       "      <td>0.004056</td>\n",
       "      <td>0.003062</td>\n",
       "      <td>0.329689</td>\n",
       "      <td>0</td>\n",
       "      <td>0</td>\n",
       "      <td>0</td>\n",
       "      <td>0</td>\n",
       "      <td>8</td>\n",
       "      <td>13</td>\n",
       "    </tr>\n",
       "    <tr>\n",
       "      <th>1</th>\n",
       "      <td>3</td>\n",
       "      <td>7503</td>\n",
       "      <td>4</td>\n",
       "      <td>1</td>\n",
       "      <td>0.000133</td>\n",
       "      <td>5</td>\n",
       "      <td>0</td>\n",
       "      <td>2</td>\n",
       "      <td>0.000000</td>\n",
       "      <td>0</td>\n",
       "      <td>0.001056</td>\n",
       "      <td>0.001165</td>\n",
       "      <td>0.000041</td>\n",
       "      <td>0</td>\n",
       "      <td>1</td>\n",
       "      <td>1</td>\n",
       "      <td>0</td>\n",
       "      <td>8</td>\n",
       "      <td>2</td>\n",
       "    </tr>\n",
       "    <tr>\n",
       "      <th>2</th>\n",
       "      <td>3</td>\n",
       "      <td>7503</td>\n",
       "      <td>4</td>\n",
       "      <td>1</td>\n",
       "      <td>0.002456</td>\n",
       "      <td>5</td>\n",
       "      <td>1</td>\n",
       "      <td>2</td>\n",
       "      <td>0.040951</td>\n",
       "      <td>0</td>\n",
       "      <td>0.019333</td>\n",
       "      <td>0.003131</td>\n",
       "      <td>0.000076</td>\n",
       "      <td>0</td>\n",
       "      <td>0</td>\n",
       "      <td>0</td>\n",
       "      <td>0</td>\n",
       "      <td>1020</td>\n",
       "      <td>-1</td>\n",
       "    </tr>\n",
       "    <tr>\n",
       "      <th>3</th>\n",
       "      <td>15</td>\n",
       "      <td>7503</td>\n",
       "      <td>0</td>\n",
       "      <td>1</td>\n",
       "      <td>0.007614</td>\n",
       "      <td>5</td>\n",
       "      <td>1</td>\n",
       "      <td>2</td>\n",
       "      <td>0.100807</td>\n",
       "      <td>0</td>\n",
       "      <td>0.000000</td>\n",
       "      <td>0.000000</td>\n",
       "      <td>0.023507</td>\n",
       "      <td>0</td>\n",
       "      <td>1</td>\n",
       "      <td>0</td>\n",
       "      <td>0</td>\n",
       "      <td>1016</td>\n",
       "      <td>-1</td>\n",
       "    </tr>\n",
       "    <tr>\n",
       "      <th>4</th>\n",
       "      <td>19</td>\n",
       "      <td>7506</td>\n",
       "      <td>0</td>\n",
       "      <td>1</td>\n",
       "      <td>0.006051</td>\n",
       "      <td>5</td>\n",
       "      <td>1</td>\n",
       "      <td>2</td>\n",
       "      <td>0.018001</td>\n",
       "      <td>0</td>\n",
       "      <td>0.052556</td>\n",
       "      <td>0.007933</td>\n",
       "      <td>0.168136</td>\n",
       "      <td>0</td>\n",
       "      <td>1</td>\n",
       "      <td>0</td>\n",
       "      <td>0</td>\n",
       "      <td>1018</td>\n",
       "      <td>-1</td>\n",
       "    </tr>\n",
       "    <tr>\n",
       "      <th>...</th>\n",
       "      <td>...</td>\n",
       "      <td>...</td>\n",
       "      <td>...</td>\n",
       "      <td>...</td>\n",
       "      <td>...</td>\n",
       "      <td>...</td>\n",
       "      <td>...</td>\n",
       "      <td>...</td>\n",
       "      <td>...</td>\n",
       "      <td>...</td>\n",
       "      <td>...</td>\n",
       "      <td>...</td>\n",
       "      <td>...</td>\n",
       "      <td>...</td>\n",
       "      <td>...</td>\n",
       "      <td>...</td>\n",
       "      <td>...</td>\n",
       "      <td>...</td>\n",
       "      <td>...</td>\n",
       "    </tr>\n",
       "    <tr>\n",
       "      <th>3999995</th>\n",
       "      <td>3</td>\n",
       "      <td>7503</td>\n",
       "      <td>4</td>\n",
       "      <td>1</td>\n",
       "      <td>0.000335</td>\n",
       "      <td>5</td>\n",
       "      <td>1</td>\n",
       "      <td>2</td>\n",
       "      <td>0.000000</td>\n",
       "      <td>0</td>\n",
       "      <td>0.003389</td>\n",
       "      <td>0.001641</td>\n",
       "      <td>0.000129</td>\n",
       "      <td>0</td>\n",
       "      <td>0</td>\n",
       "      <td>0</td>\n",
       "      <td>0</td>\n",
       "      <td>1017</td>\n",
       "      <td>1001</td>\n",
       "    </tr>\n",
       "    <tr>\n",
       "      <th>3999996</th>\n",
       "      <td>4</td>\n",
       "      <td>7503</td>\n",
       "      <td>0</td>\n",
       "      <td>1</td>\n",
       "      <td>0.001810</td>\n",
       "      <td>5</td>\n",
       "      <td>1</td>\n",
       "      <td>2</td>\n",
       "      <td>0.038591</td>\n",
       "      <td>0</td>\n",
       "      <td>0.000000</td>\n",
       "      <td>0.000000</td>\n",
       "      <td>0.273502</td>\n",
       "      <td>0</td>\n",
       "      <td>1</td>\n",
       "      <td>0</td>\n",
       "      <td>0</td>\n",
       "      <td>1023</td>\n",
       "      <td>-1</td>\n",
       "    </tr>\n",
       "    <tr>\n",
       "      <th>3999997</th>\n",
       "      <td>15</td>\n",
       "      <td>7503</td>\n",
       "      <td>0</td>\n",
       "      <td>1</td>\n",
       "      <td>0.004639</td>\n",
       "      <td>5</td>\n",
       "      <td>1</td>\n",
       "      <td>2</td>\n",
       "      <td>0.060181</td>\n",
       "      <td>0</td>\n",
       "      <td>0.036778</td>\n",
       "      <td>0.001878</td>\n",
       "      <td>0.041621</td>\n",
       "      <td>0</td>\n",
       "      <td>1</td>\n",
       "      <td>0</td>\n",
       "      <td>0</td>\n",
       "      <td>1022</td>\n",
       "      <td>-1</td>\n",
       "    </tr>\n",
       "    <tr>\n",
       "      <th>3999998</th>\n",
       "      <td>18</td>\n",
       "      <td>7503</td>\n",
       "      <td>0</td>\n",
       "      <td>1</td>\n",
       "      <td>0.001677</td>\n",
       "      <td>5</td>\n",
       "      <td>1</td>\n",
       "      <td>2</td>\n",
       "      <td>0.000000</td>\n",
       "      <td>0</td>\n",
       "      <td>0.013722</td>\n",
       "      <td>0.003131</td>\n",
       "      <td>0.028068</td>\n",
       "      <td>0</td>\n",
       "      <td>0</td>\n",
       "      <td>0</td>\n",
       "      <td>0</td>\n",
       "      <td>39</td>\n",
       "      <td>-1</td>\n",
       "    </tr>\n",
       "    <tr>\n",
       "      <th>3999999</th>\n",
       "      <td>4</td>\n",
       "      <td>7503</td>\n",
       "      <td>0</td>\n",
       "      <td>1</td>\n",
       "      <td>0.002633</td>\n",
       "      <td>5</td>\n",
       "      <td>1</td>\n",
       "      <td>2</td>\n",
       "      <td>0.042505</td>\n",
       "      <td>0</td>\n",
       "      <td>0.000667</td>\n",
       "      <td>0.000125</td>\n",
       "      <td>0.376626</td>\n",
       "      <td>0</td>\n",
       "      <td>0</td>\n",
       "      <td>0</td>\n",
       "      <td>0</td>\n",
       "      <td>14</td>\n",
       "      <td>1</td>\n",
       "    </tr>\n",
       "  </tbody>\n",
       "</table>\n",
       "<p>4000000 rows × 19 columns</p>\n",
       "</div>"
      ],
      "text/plain": [
       "         type  priority  class  is_return    weight  mailtype  mailctg  \\\n",
       "0           4      7503      0          1  0.000538         5        1   \n",
       "1           3      7503      4          1  0.000133         5        0   \n",
       "2           3      7503      4          1  0.002456         5        1   \n",
       "3          15      7503      0          1  0.007614         5        1   \n",
       "4          19      7506      0          1  0.006051         5        1   \n",
       "...       ...       ...    ...        ...       ...       ...      ...   \n",
       "3999995     3      7503      4          1  0.000335         5        1   \n",
       "3999996     4      7503      0          1  0.001810         5        1   \n",
       "3999997    15      7503      0          1  0.004639         5        1   \n",
       "3999998    18      7503      0          1  0.001677         5        1   \n",
       "3999999     4      7503      0          1  0.002633         5        1   \n",
       "\n",
       "         directctg  transport_pay  postmark  weight_mfi  price_mfi  \\\n",
       "0                2       0.000000         0    0.004056   0.003062   \n",
       "1                2       0.000000         0    0.001056   0.001165   \n",
       "2                2       0.040951         0    0.019333   0.003131   \n",
       "3                2       0.100807         0    0.000000   0.000000   \n",
       "4                2       0.018001         0    0.052556   0.007933   \n",
       "...            ...            ...       ...         ...        ...   \n",
       "3999995          2       0.000000         0    0.003389   0.001641   \n",
       "3999996          2       0.038591         0    0.000000   0.000000   \n",
       "3999997          2       0.060181         0    0.036778   0.001878   \n",
       "3999998          2       0.000000         0    0.013722   0.003131   \n",
       "3999999          2       0.042505         0    0.000667   0.000125   \n",
       "\n",
       "         total_qty_over_index  is_wrong_sndr_name  is_wrong_rcpn_name  \\\n",
       "0                    0.329689                   0                   0   \n",
       "1                    0.000041                   0                   1   \n",
       "2                    0.000076                   0                   0   \n",
       "3                    0.023507                   0                   1   \n",
       "4                    0.168136                   0                   1   \n",
       "...                       ...                 ...                 ...   \n",
       "3999995              0.000129                   0                   0   \n",
       "3999996              0.273502                   0                   1   \n",
       "3999997              0.041621                   0                   1   \n",
       "3999998              0.028068                   0                   0   \n",
       "3999999              0.376626                   0                   0   \n",
       "\n",
       "         is_wrong_phone_number  is_wrong_address  oper_type  oper_attr  \n",
       "0                            0                 0          8         13  \n",
       "1                            1                 0          8          2  \n",
       "2                            0                 0       1020         -1  \n",
       "3                            0                 0       1016         -1  \n",
       "4                            0                 0       1018         -1  \n",
       "...                        ...               ...        ...        ...  \n",
       "3999995                      0                 0       1017       1001  \n",
       "3999996                      0                 0       1023         -1  \n",
       "3999997                      0                 0       1022         -1  \n",
       "3999998                      0                 0         39         -1  \n",
       "3999999                      0                 0         14          1  \n",
       "\n",
       "[4000000 rows x 19 columns]"
      ]
     },
     "execution_count": 60,
     "metadata": {},
     "output_type": "execute_result"
    }
   ],
   "source": [
    "test_df"
   ]
  },
  {
   "cell_type": "code",
   "execution_count": 61,
   "metadata": {},
   "outputs": [],
   "source": [
    "y = clf.predict(test_df)"
   ]
  },
  {
   "cell_type": "code",
   "execution_count": 62,
   "metadata": {},
   "outputs": [],
   "source": [
    "res = pd.DataFrame({'id':cid.values, 'label': y}, index=None)"
   ]
  },
  {
   "cell_type": "code",
   "execution_count": 63,
   "metadata": {},
   "outputs": [],
   "source": [
    "res.to_csv(f\"{LOG_DIR}/output.csv\", index=False)"
   ]
  },
  {
   "cell_type": "markdown",
   "metadata": {},
   "source": [
    "## Finish"
   ]
  },
  {
   "cell_type": "code",
   "execution_count": 64,
   "metadata": {},
   "outputs": [],
   "source": [
    "mlflow.log_artifact(LOG_DIR)"
   ]
  },
  {
   "cell_type": "code",
   "execution_count": 65,
   "metadata": {},
   "outputs": [],
   "source": [
    "mlflow.end_run()"
   ]
  },
  {
   "cell_type": "code",
   "execution_count": 66,
   "metadata": {},
   "outputs": [
    {
     "data": {
      "text/plain": [
       "'log/catbost-11-05-2022-12-28-40'"
      ]
     },
     "execution_count": 66,
     "metadata": {},
     "output_type": "execute_result"
    }
   ],
   "source": [
    "LOG_DIR"
   ]
  }
 ],
 "metadata": {
  "kernelspec": {
   "display_name": "Python 3.8.15 ('.venv': venv)",
   "language": "python",
   "name": "python3"
  },
  "language_info": {
   "codemirror_mode": {
    "name": "ipython",
    "version": 3
   },
   "file_extension": ".py",
   "mimetype": "text/x-python",
   "name": "python",
   "nbconvert_exporter": "python",
   "pygments_lexer": "ipython3",
   "version": "3.8.15"
  },
  "orig_nbformat": 4,
  "vscode": {
   "interpreter": {
    "hash": "4d3f8bf6576e745eb0c033ffd91fa4265441a999246318534b4b099572c039d5"
   }
  }
 },
 "nbformat": 4,
 "nbformat_minor": 2
}
